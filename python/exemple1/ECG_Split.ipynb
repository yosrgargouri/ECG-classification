{
 "cells": [
  {
   "cell_type": "code",
   "execution_count": 1,
   "id": "08fbb4b2",
   "metadata": {},
   "outputs": [],
   "source": [
    "#split a single lead file into a number of files segments of length N\n",
    "import pandas as pd\n",
    "import numpy as np\n",
    "import glob"
   ]
  },
  {
   "cell_type": "code",
   "execution_count": 2,
   "id": "f23a4779",
   "metadata": {},
   "outputs": [
    {
     "name": "stdout",
     "output_type": "stream",
     "text": [
      "2.0\n"
     ]
    }
   ],
   "source": [
    "chunksize=5000 #for 5-sec signal, the number of datapoints generated will be 5000.\n",
    "i=0\n",
    "df=pd.read_csv('C:/Users/USER/Google Drive/stage/python/Input/S1.csv')\n",
    "print(len(df)/chunksize)\n",
    "for chunk in np.split(df, len(df)/chunksize):\n",
    "    chunk.to_csv('C:/Users/USER/Google Drive/stage/python/Output1/INT_{:02d}.csv'.format(i), header=None ,index=False)\n",
    "    i+=1\n",
    "#selecting the splited files"
   ]
  },
  {
   "cell_type": "code",
   "execution_count": 3,
   "id": "2b901783",
   "metadata": {},
   "outputs": [],
   "source": [
    "path='C:/Users/USER/Google Drive/stage/python/Output1'\n",
    "files=glob.glob(path+'/*.csv')\n",
    "num=0\n",
    "fs=1000\n",
    "x=1/fs"
   ]
  },
  {
   "cell_type": "code",
   "execution_count": 4,
   "id": "5c801b7a",
   "metadata": {},
   "outputs": [],
   "source": [
    "def swap_col(df, c1 ,c2):\n",
    "    df['temp']=df1[c1]\n",
    "    df[c1]=df1[c2]\n",
    "    df[c2]=df1['temp']\n",
    "    df.drop(columns=['temp'], inplace=True)\n",
    "    df.rename(columns={c1:c2,c2:c1},inplace=True)"
   ]
  },
  {
   "cell_type": "code",
   "execution_count": 5,
   "id": "dadef01c",
   "metadata": {},
   "outputs": [],
   "source": [
    "num=0\n",
    "for file in files:\n",
    "    num=num+1\n",
    "    df1=pd.DataFrame()\n",
    "    df=pd.read_csv(file,usecols=[0])\n",
    "    row_len=df.shape[0]\n",
    "    df1=df1.append(df)\n",
    "    df1.columns=['I']\n",
    "    time=[]\n",
    "    for i in range (0,row_len):\n",
    "        val=(i)*x\n",
    "        time.append(val)\n",
    "    df1['Time']=time \n",
    "    swap_col(df1 , 'I' ,'Time')\n",
    "    df1.to_csv(r'C:/Users/USER/Google Drive/stage/python/Output2/S'+str(num)+'.csv', index=False)"
   ]
  }
 ],
 "metadata": {
  "kernelspec": {
   "display_name": "Python 3 (ipykernel)",
   "language": "python",
   "name": "python3"
  },
  "language_info": {
   "codemirror_mode": {
    "name": "ipython",
    "version": 3
   },
   "file_extension": ".py",
   "mimetype": "text/x-python",
   "name": "python",
   "nbconvert_exporter": "python",
   "pygments_lexer": "ipython3",
   "version": "3.8.6"
  }
 },
 "nbformat": 4,
 "nbformat_minor": 5
}
