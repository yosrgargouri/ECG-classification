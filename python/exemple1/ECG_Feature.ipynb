{
 "cells": [
  {
   "cell_type": "code",
   "execution_count": 1,
   "id": "f2c1e292",
   "metadata": {},
   "outputs": [],
   "source": [
    "# statistical: min, max, arithmic mean, meduim, sum, standard deviation, variance,root meansquare value, shewness, kurtosis, shanon entropy, and Log energy entropy.\n",
    "import statistics as st\n",
    "import numpy as np\n",
    "import pandas as pd\n",
    "import scipy.stats as scst"
   ]
  },
  {
   "cell_type": "code",
   "execution_count": 2,
   "id": "b65374d4",
   "metadata": {},
   "outputs": [],
   "source": [
    "def shannon(x):\n",
    "    y=np.power(x,2)\n",
    "    y1=np.sum(y)\n",
    "    PE=y/y1\n",
    "    SE=-np.sum(PE*np.log(np.power(PE,2)))\n",
    "    return SE\n",
    "\n",
    "def logenergy(x):\n",
    "    y=np.power(x,2)\n",
    "    y1=np.sum(y)\n",
    "    PE=y/y1\n",
    "    LEE=np.sum(PE*np.log(PE))\n",
    "    return LEE"
   ]
  },
  {
   "cell_type": "code",
   "execution_count": 3,
   "id": "99c13848",
   "metadata": {},
   "outputs": [
    {
     "name": "stdout",
     "output_type": "stream",
     "text": [
      "       Time         I\n",
      "0     0.000  0.001998\n",
      "1     0.001  0.003995\n",
      "2     0.002  0.005993\n",
      "3     0.003  0.007990\n",
      "4     0.004  0.009988\n",
      "...     ...       ...\n",
      "4994  4.994  9.978026\n",
      "4995  4.995  9.980024\n",
      "4996  4.996  9.982022\n",
      "4997  4.997  9.984019\n",
      "4998  4.998  9.986017\n",
      "\n",
      "[4999 rows x 2 columns]\n"
     ]
    }
   ],
   "source": [
    "data=pd.read_csv('C:/Users/USER/Google Drive/stage/python/Output2/S1.csv')\n",
    "print(data)\n",
    "x=data.iloc[:,1].values\n",
    "\n",
    "STAT=pd.DataFrame(index=range(0,10),columns=['MIN','MAX','AM','MED','SUM','STD','VAR','SKW','KURT','SE','LEE'])\n",
    "j=STAT.index[0]\n",
    "\n",
    "STAT['MIN'][j]=np.min(x)\n",
    "\n",
    "STAT['MAX'][j]=np.max(x)\n",
    "\n",
    "STAT['AM'][j]=np.mean(x)\n",
    "\n",
    "STAT['MED'][j]=np.median(x)\n",
    "\n",
    "STAT['SUM'][j]=np.sum(x)\n",
    "\n",
    "STAT['STD'][j]=st.stdev(x)\n",
    "\n",
    "STAT['VAR'][j]=st.variance(x)\n",
    "\n",
    "STAT['SKW'][j]=scst.skew(x)\n",
    "\n",
    "STAT['KURT'][j]=scst.kurtosis(x)\n",
    "\n",
    "STAT['SE'][j]=shannon(x)\n",
    "\n",
    "STAT['LEE'][j]=logenergy(x)\n",
    "\n",
    "STAT.to_csv('C:/Users/USER/Google Drive/stage/python/STATISTICAL.csv',index=False)\n"
   ]
  }
 ],
 "metadata": {
  "kernelspec": {
   "display_name": "Python 3 (ipykernel)",
   "language": "python",
   "name": "python3"
  },
  "language_info": {
   "codemirror_mode": {
    "name": "ipython",
    "version": 3
   },
   "file_extension": ".py",
   "mimetype": "text/x-python",
   "name": "python",
   "nbconvert_exporter": "python",
   "pygments_lexer": "ipython3",
   "version": "3.8.6"
  }
 },
 "nbformat": 4,
 "nbformat_minor": 5
}
