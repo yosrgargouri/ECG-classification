{
 "cells": [
  {
   "cell_type": "code",
   "execution_count": 1,
   "id": "fe3fd778",
   "metadata": {},
   "outputs": [],
   "source": [
    "#necessary imports\n",
    "import pandas as pd\n",
    "import numpy as np\n",
    "import matplotlib.pyplot as plt"
   ]
  },
  {
   "cell_type": "code",
   "execution_count": 2,
   "id": "c728c8a6",
   "metadata": {
    "scrolled": false
   },
   "outputs": [
    {
     "data": {
      "text/plain": [
       "1    47\n",
       "0    36\n",
       "Name: Etat, dtype: int64"
      ]
     },
     "execution_count": 2,
     "metadata": {},
     "output_type": "execute_result"
    }
   ],
   "source": [
    "cell_df=pd.read_csv('yosr.csv')\n",
    "cell_df.shape\n",
    "cell_df.size\n",
    "cell_df.count()\n",
    "cell_df['Etat'].value_counts()"
   ]
  },
  {
   "cell_type": "code",
   "execution_count": 10,
   "id": "6fc04a9a",
   "metadata": {},
   "outputs": [
    {
     "data": {
      "text/html": [
       "<div>\n",
       "<style scoped>\n",
       "    .dataframe tbody tr th:only-of-type {\n",
       "        vertical-align: middle;\n",
       "    }\n",
       "\n",
       "    .dataframe tbody tr th {\n",
       "        vertical-align: top;\n",
       "    }\n",
       "\n",
       "    .dataframe thead th {\n",
       "        text-align: right;\n",
       "    }\n",
       "</style>\n",
       "<table border=\"1\" class=\"dataframe\">\n",
       "  <thead>\n",
       "    <tr style=\"text-align: right;\">\n",
       "      <th></th>\n",
       "      <th>Mean</th>\n",
       "      <th>Standard_Deviation</th>\n",
       "      <th>Skewness</th>\n",
       "      <th>Variance</th>\n",
       "      <th>Etat</th>\n",
       "    </tr>\n",
       "  </thead>\n",
       "  <tbody>\n",
       "    <tr>\n",
       "      <th>0</th>\n",
       "      <td>25.6558</td>\n",
       "      <td>155.5168</td>\n",
       "      <td>3.0410</td>\n",
       "      <td>24185.0000</td>\n",
       "      <td>1</td>\n",
       "    </tr>\n",
       "    <tr>\n",
       "      <th>1</th>\n",
       "      <td>29.6218</td>\n",
       "      <td>159.4968</td>\n",
       "      <td>4.3051</td>\n",
       "      <td>25439.0000</td>\n",
       "      <td>1</td>\n",
       "    </tr>\n",
       "    <tr>\n",
       "      <th>2</th>\n",
       "      <td>-22.5978</td>\n",
       "      <td>102.9899</td>\n",
       "      <td>-2.2168</td>\n",
       "      <td>10607.0000</td>\n",
       "      <td>1</td>\n",
       "    </tr>\n",
       "    <tr>\n",
       "      <th>3</th>\n",
       "      <td>-5.6097</td>\n",
       "      <td>70.2875</td>\n",
       "      <td>-3.9618</td>\n",
       "      <td>4940.3000</td>\n",
       "      <td>1</td>\n",
       "    </tr>\n",
       "    <tr>\n",
       "      <th>4</th>\n",
       "      <td>-38.9337</td>\n",
       "      <td>147.5581</td>\n",
       "      <td>-3.0959</td>\n",
       "      <td>21773.0000</td>\n",
       "      <td>1</td>\n",
       "    </tr>\n",
       "    <tr>\n",
       "      <th>...</th>\n",
       "      <td>...</td>\n",
       "      <td>...</td>\n",
       "      <td>...</td>\n",
       "      <td>...</td>\n",
       "      <td>...</td>\n",
       "    </tr>\n",
       "    <tr>\n",
       "      <th>78</th>\n",
       "      <td>-25.5361</td>\n",
       "      <td>72.6522</td>\n",
       "      <td>-1.6074</td>\n",
       "      <td>5278.3000</td>\n",
       "      <td>0</td>\n",
       "    </tr>\n",
       "    <tr>\n",
       "      <th>79</th>\n",
       "      <td>-1.2661</td>\n",
       "      <td>48.0931</td>\n",
       "      <td>0.9056</td>\n",
       "      <td>2312.9000</td>\n",
       "      <td>0</td>\n",
       "    </tr>\n",
       "    <tr>\n",
       "      <th>80</th>\n",
       "      <td>-3.4632</td>\n",
       "      <td>21.7493</td>\n",
       "      <td>-4.9043</td>\n",
       "      <td>473.0328</td>\n",
       "      <td>0</td>\n",
       "    </tr>\n",
       "    <tr>\n",
       "      <th>81</th>\n",
       "      <td>-3.7150</td>\n",
       "      <td>33.1848</td>\n",
       "      <td>-3.6822</td>\n",
       "      <td>1101.2000</td>\n",
       "      <td>0</td>\n",
       "    </tr>\n",
       "    <tr>\n",
       "      <th>82</th>\n",
       "      <td>10.3749</td>\n",
       "      <td>41.0232</td>\n",
       "      <td>4.2810</td>\n",
       "      <td>1682.9000</td>\n",
       "      <td>0</td>\n",
       "    </tr>\n",
       "  </tbody>\n",
       "</table>\n",
       "<p>83 rows × 5 columns</p>\n",
       "</div>"
      ],
      "text/plain": [
       "       Mean  Standard_Deviation  Skewness    Variance  Etat\n",
       "0   25.6558            155.5168    3.0410  24185.0000     1\n",
       "1   29.6218            159.4968    4.3051  25439.0000     1\n",
       "2  -22.5978            102.9899   -2.2168  10607.0000     1\n",
       "3   -5.6097             70.2875   -3.9618   4940.3000     1\n",
       "4  -38.9337            147.5581   -3.0959  21773.0000     1\n",
       "..      ...                 ...       ...         ...   ...\n",
       "78 -25.5361             72.6522   -1.6074   5278.3000     0\n",
       "79  -1.2661             48.0931    0.9056   2312.9000     0\n",
       "80  -3.4632             21.7493   -4.9043    473.0328     0\n",
       "81  -3.7150             33.1848   -3.6822   1101.2000     0\n",
       "82  10.3749             41.0232    4.2810   1682.9000     0\n",
       "\n",
       "[83 rows x 5 columns]"
      ]
     },
     "execution_count": 10,
     "metadata": {},
     "output_type": "execute_result"
    }
   ],
   "source": [
    "cell_df"
   ]
  },
  {
   "cell_type": "code",
   "execution_count": 4,
   "id": "78b917a4",
   "metadata": {},
   "outputs": [
    {
     "data": {
      "text/plain": [
       "<AxesSubplot:xlabel='Mean', ylabel='Standard_Deviation'>"
      ]
     },
     "execution_count": 4,
     "metadata": {},
     "output_type": "execute_result"
    },
    {
     "data": {
      "image/png": "[encoded data removed]",
      "text/plain": [
       "<Figure size 432x288 with 1 Axes>"
      ]
     },
     "metadata": {
      "needs_background": "light"
     },
     "output_type": "display_data"
    }
   ],
   "source": [
    "normal_df=cell_df[cell_df['Etat']==1][0:]\n",
    "malade_df=cell_df[cell_df['Etat']==0][0:]\n",
    "\n",
    "axes=normal_df.plot(kind='scatter',x='Mean',y='Standard_Deviation',color='blue',label='normal')\n",
    "malade_df.plot(kind='scatter',x='Mean',y='Standard_Deviation',color='red',label='malade',ax=axes)"
   ]
  },
  {
   "cell_type": "code",
   "execution_count": 5,
   "id": "6dac0fb2",
   "metadata": {},
   "outputs": [
    {
     "data": {
      "text/plain": [
       "array([[ 2.565580e+01,  1.555168e+02,  3.041000e+00,  2.418500e+04],\n",
       "       [ 2.962180e+01,  1.594968e+02,  4.305100e+00,  2.543900e+04],\n",
       "       [-2.259780e+01,  1.029899e+02, -2.216800e+00,  1.060700e+04],\n",
       "       [-5.609700e+00,  7.028750e+01, -3.961800e+00,  4.940300e+03],\n",
       "       [-3.893370e+01,  1.475581e+02, -3.095900e+00,  2.177300e+04]])"
      ]
     },
     "execution_count": 5,
     "metadata": {},
     "output_type": "execute_result"
    }
   ],
   "source": [
    "cell_df.columns\n",
    "\n",
    "feature_df = cell_df[['Mean','Standard_Deviation','Skewness','Variance']]\n",
    "\n",
    "#Independent var\n",
    "x = np.asarray(feature_df)\n",
    "\n",
    "#Dependent var\n",
    "y = np.asarray(cell_df['Etat'])\n",
    "\n",
    "x[0:5]"
   ]
  },
  {
   "cell_type": "code",
   "execution_count": 6,
   "id": "51a1f226",
   "metadata": {},
   "outputs": [
    {
     "data": {
      "text/plain": [
       "(74,)"
      ]
     },
     "execution_count": 6,
     "metadata": {},
     "output_type": "execute_result"
    }
   ],
   "source": [
    "from sklearn.model_selection import train_test_split\n",
    "x_train, x_test, y_train, y_test = train_test_split(x, y, test_size=0.1, random_state=4)\n",
    "\n",
    "x_train.shape\n",
    "y_train.shape\n"
   ]
  },
  {
   "cell_type": "code",
   "execution_count": 7,
   "id": "2e12b60a",
   "metadata": {},
   "outputs": [
    {
     "data": {
      "text/plain": [
       "(9,)"
      ]
     },
     "execution_count": 7,
     "metadata": {},
     "output_type": "execute_result"
    }
   ],
   "source": [
    "x_test.shape\n",
    "y_test.shape"
   ]
  },
  {
   "cell_type": "code",
   "execution_count": 8,
   "id": "d4432e0b",
   "metadata": {},
   "outputs": [],
   "source": [
    "from sklearn import svm\n",
    "\n",
    "classifier = svm.SVC(kernel='linear',gamma='auto',C=2)\n",
    "classifier.fit(x_train , y_train)\n",
    "\n",
    "y_predict = classifier.predict(x_test)"
   ]
  },
  {
   "cell_type": "code",
   "execution_count": 9,
   "id": "271dcf0b",
   "metadata": {},
   "outputs": [
    {
     "name": "stdout",
     "output_type": "stream",
     "text": [
      "              precision    recall  f1-score   support\n",
      "\n",
      "           0       1.00      0.75      0.86         4\n",
      "           1       0.83      1.00      0.91         5\n",
      "\n",
      "    accuracy                           0.89         9\n",
      "   macro avg       0.92      0.88      0.88         9\n",
      "weighted avg       0.91      0.89      0.89         9\n",
      "\n"
     ]
    }
   ],
   "source": [
    "from sklearn.metrics import classification_report\n",
    "print(classification_report(y_test, y_predict))"
   ]
  }
 ],
 "metadata": {
  "kernelspec": {
   "display_name": "Python 3 (ipykernel)",
   "language": "python",
   "name": "python3"
  },
  "language_info": {
   "codemirror_mode": {
    "name": "ipython",
    "version": 3
   },
   "file_extension": ".py",
   "mimetype": "text/x-python",
   "name": "python",
   "nbconvert_exporter": "python",
   "pygments_lexer": "ipython3",
   "version": "3.8.6"
  }
 },
 "nbformat": 4,
 "nbformat_minor": 5
}
