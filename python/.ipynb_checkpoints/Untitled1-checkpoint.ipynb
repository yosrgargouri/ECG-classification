{
 "cells": [
  {
   "cell_type": "code",
   "execution_count": 1,
   "id": "8fe8a7db",
   "metadata": {},
   "outputs": [],
   "source": [
    "#separation of each lead data to a saparate foldar\n",
    "\n",
    "import pandas as pd\n",
    "import glob"
   ]
  },
  {
   "cell_type": "code",
   "execution_count": 2,
   "id": "2e39b196",
   "metadata": {},
   "outputs": [],
   "source": [
    "path='C:/Users/USER/Google Drive/stage/python/ECG'\n",
    "files=glob.glob(path+'/*.csv')"
   ]
  },
  {
   "cell_type": "code",
   "execution_count": 3,
   "id": "1b4c1b1c",
   "metadata": {},
   "outputs": [],
   "source": [
    "def swap_col(df, c1 ,c2):\n",
    "    df['temp']=df1[c1]\n",
    "    df[c1]=df1[c2]\n",
    "    df[c2]=df1['temp']\n",
    "    df.drop(columns=['temp'], inplace=True)\n",
    "    df.rename(columns={c1:c2,c2:c1},inplace=True)"
   ]
  },
  {
   "cell_type": "code",
   "execution_count": 4,
   "id": "9f45a6ce",
   "metadata": {},
   "outputs": [],
   "source": [
    "fs=500.6\n",
    "x=1/fs\n",
    "header=['I','II','III','avR','avL','avF','V1','V2','V3','V4','V5','V6']\n",
    "num=0\n",
    "\n",
    "for file in files:\n",
    "    num=num+1\n",
    "    for i in range(0, len(header)):\n",
    "        df1=pd.read_csv(file,usecols=[i])\n",
    "        row_len=df1.shape[0]\n",
    "        df=df1\n",
    "        time=[]\n",
    "        lead=header[i]\n",
    "        for j in range (0,row_len):\n",
    "            val=(j)*x\n",
    "            time.append(val)\n",
    "        df['Time']=time\n",
    "        swap_col(df , lead ,'Time')\n",
    "        df.to_csv(r'C:/Users/USER/Google Drive/stage/python/Output1/C_'+str(i+1)+'\\S'+str(num)+'.csv', index=False)"
   ]
  },
  {
   "cell_type": "code",
   "execution_count": null,
   "id": "6db2c243",
   "metadata": {},
   "outputs": [],
   "source": []
  }
 ],
 "metadata": {
  "kernelspec": {
   "display_name": "Python 3 (ipykernel)",
   "language": "python",
   "name": "python3"
  },
  "language_info": {
   "codemirror_mode": {
    "name": "ipython",
    "version": 3
   },
   "file_extension": ".py",
   "mimetype": "text/x-python",
   "name": "python",
   "nbconvert_exporter": "python",
   "pygments_lexer": "ipython3",
   "version": "3.8.6"
  }
 },
 "nbformat": 4,
 "nbformat_minor": 5
}
