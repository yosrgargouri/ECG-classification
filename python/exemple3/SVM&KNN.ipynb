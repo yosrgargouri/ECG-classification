{
 "cells": [
  {
   "cell_type": "code",
   "execution_count": 319,
   "id": "f07cd91a",
   "metadata": {},
   "outputs": [],
   "source": [
    "# import libraries\n",
    "%matplotlib inline\n",
    "import numpy as np\n",
    "import matplotlib.pyplot as plt\n",
    "import pandas as pd\n",
    "import os\n",
    "import pickle"
   ]
  },
  {
   "cell_type": "code",
   "execution_count": 320,
   "id": "152dcc72",
   "metadata": {},
   "outputs": [],
   "source": [
    "def euclidDistance(P1,P2):\n",
    "    return np.linalg.norm(P1-P2,2)"
   ]
  },
  {
   "cell_type": "code",
   "execution_count": 321,
   "id": "210ccf19",
   "metadata": {},
   "outputs": [],
   "source": [
    "def allDistances(X1, X2):\n",
    "    D = np.zeros((X1.shape[0], X2.shape[0]))\n",
    "    for idx1 in range(len(X1)):\n",
    "        for idx2 in range(len(X2)):\n",
    "            D[idx1,idx2] = euclidDistance(X1[idx1,:],X2[idx2,:])\n",
    "    return D"
   ]
  },
  {
   "cell_type": "code",
   "execution_count": 322,
   "id": "fbb75640",
   "metadata": {},
   "outputs": [],
   "source": [
    "# KNN Classifier"
   ]
  },
  {
   "cell_type": "code",
   "execution_count": 323,
   "id": "d59c92b8",
   "metadata": {},
   "outputs": [],
   "source": [
    "def kNNClassify(Xtr, Ytr, k, Xte, Te=1):\n",
    "\n",
    "    n_train = Xtr.shape[0]\n",
    "    n_test = Xte.shape[0]\n",
    "\n",
    "    if any(np.abs(Ytr) != 1):\n",
    "        print(\"The values of Ytr should be +1 or -1.\")\n",
    "        return -1\n",
    "\n",
    "    if k > n_train:\n",
    "        print(\"k is greater than the number of points, setting k=n_train\")\n",
    "        k = n_train\n",
    "\n",
    "    Ypred = np.zeros(n_test)\n",
    "\n",
    "    dist = allDistances(Xte, Xtr)\n",
    "\n",
    "    for idx in range(n_test):\n",
    "        if(Te==1): # test set\n",
    "            neigh_indexes = np.argsort(dist[idx, :])[:k]\n",
    "        else:\n",
    "            neigh_indexes = np.argsort(dist[idx, :])[1:k+1]\n",
    "            \n",
    "        avg_neigh = np.mean(Ytr[neigh_indexes])\n",
    "        Ypred[idx] = np.sign(avg_neigh)\n",
    "\n",
    "    return Ypred"
   ]
  },
  {
   "cell_type": "code",
   "execution_count": 450,
   "id": "6d90864b",
   "metadata": {},
   "outputs": [],
   "source": [
    "def kNNClassify2(Xtr, Ytr,  Xte):\n",
    "    \n",
    "    S = np.c_[Xtr,Ytr]\n",
    "    n_test = Xte.shape[0]\n",
    "        \n",
    "    centre1 = np.zeros(S.shape[1])\n",
    "    centre2 = np.zeros(S.shape[1])\n",
    "    count1 = 0\n",
    "    count2 = 0\n",
    "    for i in range (0,S.shape[0]) :\n",
    "        if S[i,6] == 1 :\n",
    "            centre1 = centre1 + S[i,:]\n",
    "            count1 = count1 + 1\n",
    "        else :\n",
    "            centre2 = centre2 + S[i,:]\n",
    "            count2 = count2 + 1\n",
    "\n",
    "    centre1 = centre1 / count1   \n",
    "    centre2 = centre2 / count2\n",
    "    \n",
    "    Ypred = np.zeros(n_test)\n",
    "    \n",
    "    centre =  np.zeros(shape=(2,7))\n",
    "    centre[0,:] = centre1\n",
    "    centre[1,:] = centre2\n",
    "    for j in range(n_test):\n",
    "        dis1 = euclidDistance(centre1[0:6],Xte[j,:])\n",
    "        dis2 = euclidDistance(centre2[0:6],Xte[j,:])\n",
    "        if dis1 < dis2 :\n",
    "            Ypred[j]=1\n",
    "        else :\n",
    "            Ypred[j]=-1\n",
    "\n",
    "    return Ypred"
   ]
  },
  {
   "cell_type": "code",
   "execution_count": 453,
   "id": "60ed9292",
   "metadata": {},
   "outputs": [],
   "source": [
    "Ypredtr1 = kNNClassify2(Xtr, Ytr, Xtr)"
   ]
  },
  {
   "cell_type": "code",
   "execution_count": 454,
   "id": "20859768",
   "metadata": {},
   "outputs": [],
   "source": [
    "train_err_knn2 = knncalcError(Ypredtr1, Ytr)"
   ]
  },
  {
   "cell_type": "code",
   "execution_count": 455,
   "id": "0d7a37f8",
   "metadata": {},
   "outputs": [
    {
     "data": {
      "text/plain": [
       "array([[ 86,  18],\n",
       "       [ 20, 114]], dtype=int64)"
      ]
     },
     "execution_count": 455,
     "metadata": {},
     "output_type": "execute_result"
    }
   ],
   "source": [
    "# matrice de confision\n",
    "import seaborn as sms\n",
    "conf_mat = confusion_matrix(Ytr,Ypredtr1)\n",
    "conf_mat"
   ]
  },
  {
   "cell_type": "code",
   "execution_count": 457,
   "id": "2a6f4b1f",
   "metadata": {},
   "outputs": [
    {
     "name": "stderr",
     "output_type": "stream",
     "text": [
      "C:\\Users\\USER\\AppData\\Local\\Temp/ipykernel_12976/1563367278.py:2: DeprecationWarning: elementwise comparison failed; this will raise an error in the future.\n",
      "  return (np.count_nonzero(Ypred!=Ytrue))/len(Ytrue)\n"
     ]
    },
    {
     "data": {
      "text/plain": [
       "0.004201680672268907"
      ]
     },
     "execution_count": 457,
     "metadata": {},
     "output_type": "execute_result"
    }
   ],
   "source": [
    "Ypredtr2 = kNNClassify2(Xtr, Ytr, Xte)\n",
    "train_err_knn_a = knncalcError(Ypredtr2, Ytr)\n",
    "train_err_knn_a"
   ]
  },
  {
   "cell_type": "code",
   "execution_count": 459,
   "id": "e59f8c07",
   "metadata": {},
   "outputs": [
    {
     "data": {
      "text/plain": [
       "array([[43,  4],\n",
       "       [ 5, 50]], dtype=int64)"
      ]
     },
     "execution_count": 459,
     "metadata": {},
     "output_type": "execute_result"
    }
   ],
   "source": [
    "# matrice de confision\n",
    "import seaborn as sms\n",
    "conf_mat = confusion_matrix(Yte,Ypredtr2)\n",
    "conf_mat"
   ]
  },
  {
   "cell_type": "code",
   "execution_count": 324,
   "id": "1eda6f1e",
   "metadata": {},
   "outputs": [],
   "source": [
    "# SVM Classifier"
   ]
  },
  {
   "cell_type": "code",
   "execution_count": 325,
   "id": "00dc2dd7",
   "metadata": {},
   "outputs": [],
   "source": [
    "def svmPredict(Xtr, Ytr, Xte, reg_parm = 0.1, epochs = 100000):\n",
    "    \n",
    "    n_train, d_train = np.shape(Xtr)\n",
    "    \n",
    "    if any(np.abs(Ytr) != 1):\n",
    "        print(\"The values of Ytr should be +1 or -1.\")\n",
    "        return -1\n",
    "    \n",
    "    \n",
    "    \n",
    "    w = np.zeros(d_train)\n",
    "    \n",
    "    for epoch in range(1, epochs):\n",
    "        learning_rate = 1/epoch        # variable learning rate\n",
    "        for i, x in enumerate(Xtr):\n",
    "            if (Ytr[i] * np.dot(Xtr[i], w)) < 1:\n",
    "                w = (1 - learning_rate)*w + (learning_rate)*reg_parm*Ytr[i]*Xtr[i]\n",
    "            else:\n",
    "                w = (1 - learning_rate)*w\n",
    "    \n",
    "    Ypred = np.dot(Xte, w)\n",
    "    \n",
    "    return Ypred, w"
   ]
  },
  {
   "cell_type": "code",
   "execution_count": 326,
   "id": "a25ecfac",
   "metadata": {},
   "outputs": [],
   "source": [
    "# Data Generation"
   ]
  },
  {
   "cell_type": "code",
   "execution_count": 327,
   "id": "902d9e17",
   "metadata": {},
   "outputs": [
    {
     "data": {
      "text/plain": [
       "(340,)"
      ]
     },
     "execution_count": 327,
     "metadata": {},
     "output_type": "execute_result"
    }
   ],
   "source": [
    "#read data\n",
    "cell_df=pd.read_csv('TEST.csv')\n",
    "cell_df.shape\n",
    "cell_df.size\n",
    "cell_df.count()\n",
    "cell_df\n",
    "\n",
    "cell_df.columns\n",
    "\n",
    "feature_df = cell_df[['P_Duration','P_Amp','QRS_Duration','QRS_Amp','RR_Interval','PR_Interval']]\n",
    "\n",
    "#Independent var\n",
    "X = np.asarray(feature_df)\n",
    "X.shape\n",
    "\n",
    "#Dependent var\n",
    "Y = np.asarray(cell_df['Etat'])\n",
    "Y.shape\n"
   ]
  },
  {
   "cell_type": "code",
   "execution_count": 519,
   "id": "f818fa31",
   "metadata": {},
   "outputs": [
    {
     "data": {
      "text/html": [
       "<div>\n",
       "<style scoped>\n",
       "    .dataframe tbody tr th:only-of-type {\n",
       "        vertical-align: middle;\n",
       "    }\n",
       "\n",
       "    .dataframe tbody tr th {\n",
       "        vertical-align: top;\n",
       "    }\n",
       "\n",
       "    .dataframe thead th {\n",
       "        text-align: right;\n",
       "    }\n",
       "</style>\n",
       "<table border=\"1\" class=\"dataframe\">\n",
       "  <thead>\n",
       "    <tr style=\"text-align: right;\">\n",
       "      <th></th>\n",
       "      <th>P_Duration</th>\n",
       "      <th>P_Amp</th>\n",
       "      <th>QRS_Duration</th>\n",
       "      <th>QRS_Amp</th>\n",
       "      <th>RR_Interval</th>\n",
       "      <th>PR_Interval</th>\n",
       "      <th>Etat</th>\n",
       "    </tr>\n",
       "  </thead>\n",
       "  <tbody>\n",
       "    <tr>\n",
       "      <th>0</th>\n",
       "      <td>130</td>\n",
       "      <td>0.145</td>\n",
       "      <td>160.0</td>\n",
       "      <td>1919.000</td>\n",
       "      <td>728</td>\n",
       "      <td>25</td>\n",
       "      <td>1</td>\n",
       "    </tr>\n",
       "    <tr>\n",
       "      <th>1</th>\n",
       "      <td>127</td>\n",
       "      <td>0.178</td>\n",
       "      <td>166.0</td>\n",
       "      <td>1.782</td>\n",
       "      <td>724</td>\n",
       "      <td>26</td>\n",
       "      <td>1</td>\n",
       "    </tr>\n",
       "    <tr>\n",
       "      <th>2</th>\n",
       "      <td>137</td>\n",
       "      <td>0.134</td>\n",
       "      <td>161.0</td>\n",
       "      <td>1.888</td>\n",
       "      <td>745</td>\n",
       "      <td>20</td>\n",
       "      <td>1</td>\n",
       "    </tr>\n",
       "    <tr>\n",
       "      <th>3</th>\n",
       "      <td>133</td>\n",
       "      <td>0.145</td>\n",
       "      <td>160.0</td>\n",
       "      <td>1.836</td>\n",
       "      <td>739</td>\n",
       "      <td>30</td>\n",
       "      <td>1</td>\n",
       "    </tr>\n",
       "    <tr>\n",
       "      <th>4</th>\n",
       "      <td>134</td>\n",
       "      <td>0.163</td>\n",
       "      <td>157.0</td>\n",
       "      <td>1.894</td>\n",
       "      <td>731</td>\n",
       "      <td>29</td>\n",
       "      <td>1</td>\n",
       "    </tr>\n",
       "    <tr>\n",
       "      <th>...</th>\n",
       "      <td>...</td>\n",
       "      <td>...</td>\n",
       "      <td>...</td>\n",
       "      <td>...</td>\n",
       "      <td>...</td>\n",
       "      <td>...</td>\n",
       "      <td>...</td>\n",
       "    </tr>\n",
       "    <tr>\n",
       "      <th>335</th>\n",
       "      <td>86</td>\n",
       "      <td>0.085</td>\n",
       "      <td>107.0</td>\n",
       "      <td>0.950</td>\n",
       "      <td>825</td>\n",
       "      <td>35</td>\n",
       "      <td>-1</td>\n",
       "    </tr>\n",
       "    <tr>\n",
       "      <th>336</th>\n",
       "      <td>77</td>\n",
       "      <td>0.063</td>\n",
       "      <td>120.0</td>\n",
       "      <td>1.560</td>\n",
       "      <td>700</td>\n",
       "      <td>58</td>\n",
       "      <td>-1</td>\n",
       "    </tr>\n",
       "    <tr>\n",
       "      <th>337</th>\n",
       "      <td>95</td>\n",
       "      <td>0.084</td>\n",
       "      <td>90.0</td>\n",
       "      <td>1.500</td>\n",
       "      <td>854</td>\n",
       "      <td>53</td>\n",
       "      <td>-1</td>\n",
       "    </tr>\n",
       "    <tr>\n",
       "      <th>338</th>\n",
       "      <td>93</td>\n",
       "      <td>0.079</td>\n",
       "      <td>106.0</td>\n",
       "      <td>1.200</td>\n",
       "      <td>871</td>\n",
       "      <td>47</td>\n",
       "      <td>-1</td>\n",
       "    </tr>\n",
       "    <tr>\n",
       "      <th>339</th>\n",
       "      <td>95</td>\n",
       "      <td>0.119</td>\n",
       "      <td>104.0</td>\n",
       "      <td>0.790</td>\n",
       "      <td>790</td>\n",
       "      <td>37</td>\n",
       "      <td>-1</td>\n",
       "    </tr>\n",
       "  </tbody>\n",
       "</table>\n",
       "<p>340 rows × 7 columns</p>\n",
       "</div>"
      ],
      "text/plain": [
       "     P_Duration  P_Amp  QRS_Duration   QRS_Amp  RR_Interval  PR_Interval  Etat\n",
       "0           130  0.145         160.0  1919.000          728           25     1\n",
       "1           127  0.178         166.0     1.782          724           26     1\n",
       "2           137  0.134         161.0     1.888          745           20     1\n",
       "3           133  0.145         160.0     1.836          739           30     1\n",
       "4           134  0.163         157.0     1.894          731           29     1\n",
       "..          ...    ...           ...       ...          ...          ...   ...\n",
       "335          86  0.085         107.0     0.950          825           35    -1\n",
       "336          77  0.063         120.0     1.560          700           58    -1\n",
       "337          95  0.084          90.0     1.500          854           53    -1\n",
       "338          93  0.079         106.0     1.200          871           47    -1\n",
       "339          95  0.119         104.0     0.790          790           37    -1\n",
       "\n",
       "[340 rows x 7 columns]"
      ]
     },
     "execution_count": 519,
     "metadata": {},
     "output_type": "execute_result"
    }
   ],
   "source": [
    "cell_df"
   ]
  },
  {
   "cell_type": "code",
   "execution_count": 398,
   "id": "e82ff421",
   "metadata": {},
   "outputs": [
    {
     "data": {
      "text/plain": [
       "7"
      ]
     },
     "execution_count": 398,
     "metadata": {},
     "output_type": "execute_result"
    }
   ],
   "source": [
    "sample = cell_df[['P_Duration','P_Amp','QRS_Duration','QRS_Amp','RR_Interval','PR_Interval','Etat']]\n",
    "S = np.asarray(sample)"
   ]
  },
  {
   "cell_type": "code",
   "execution_count": null,
   "id": "50c424b6",
   "metadata": {},
   "outputs": [],
   "source": [
    "Sr ,Se = train_test_split(X, Y, test_size=0.3, random_state=4)"
   ]
  },
  {
   "cell_type": "code",
   "execution_count": 328,
   "id": "a1fae048",
   "metadata": {},
   "outputs": [],
   "source": [
    "# Classification Error Calculation KNN"
   ]
  },
  {
   "cell_type": "code",
   "execution_count": 329,
   "id": "580fa4e6",
   "metadata": {},
   "outputs": [],
   "source": [
    "def knncalcError(Ypred, Ytrue):\n",
    "    return (np.count_nonzero(Ypred!=Ytrue))/len(Ytrue)"
   ]
  },
  {
   "cell_type": "code",
   "execution_count": 330,
   "id": "75ac8ced",
   "metadata": {},
   "outputs": [],
   "source": [
    "# Classification Error Calculation SVM"
   ]
  },
  {
   "cell_type": "code",
   "execution_count": 331,
   "id": "4fad2a99",
   "metadata": {},
   "outputs": [],
   "source": [
    "def calcErrorSVM(Ypred, Ytrue):\n",
    "    cnt = 0\n",
    "    for i in range(len(Ytrue)):\n",
    "        if Ypred[i]*Ytrue[i] <1 :\n",
    "            cnt +=1\n",
    "    return cnt/len(Ytrue)"
   ]
  },
  {
   "cell_type": "code",
   "execution_count": 332,
   "id": "a8217c7c",
   "metadata": {},
   "outputs": [],
   "source": [
    "#SVM Train-Test Error Analysis\n",
    "def svmTrainTestAnalysis(Xtr, Ytr, Xte, Yte, reg_params):\n",
    "    \n",
    "    train_err = np.zeros(np.shape(reg_params))\n",
    "    test_err = np.zeros(np.shape(reg_params))\n",
    "    \n",
    "    for i in range(len(reg_params)):\n",
    "        Ypredt, w_train = svmPredict(Xtr, Ytr, Xtr, reg_params[i])\n",
    "        train_err[i] = calcErrorSVM(Ypredt, Ytr)\n",
    "        \n",
    "        Ypredtr, w_pred = svmPredict(Xtr, Ytr, Xte, reg_params[i])\n",
    "        test_err[i] = calcErrorSVM(Ypredtr, Yte)\n",
    "\n",
    "    return train_err, test_err"
   ]
  },
  {
   "cell_type": "code",
   "execution_count": 333,
   "id": "6dd54eb0",
   "metadata": {},
   "outputs": [
    {
     "data": {
      "image/png": "[encoded data removed]",
      "text/plain": [
       "<Figure size 432x288 with 1 Axes>"
      ]
     },
     "metadata": {
      "needs_background": "light"
     },
     "output_type": "display_data"
    }
   ],
   "source": [
    "# split of data to be used as training\n",
    "from sklearn.model_selection import train_test_split\n",
    "\n",
    "Xtr, Xte, Ytr, Yte = train_test_split(X, Y, test_size=0.3, random_state=4)\n",
    "\n",
    "reg_param = 1000\n",
    "Y_pred, w = svmPredict(Xtr, Ytr, Xte, reg_param) \n",
    "\n",
    "# Visualization of the model\n",
    "\n",
    "plt.scatter(np.array(X[:,1]), np.array(X[:,5]),marker='*',c=Y)\n",
    "\n",
    "# Create the hyperplane\n",
    "\n",
    "a = -w[1] / w[5]\n",
    "xx = np.linspace(0,0.4)\n",
    "yy = a * xx\n",
    "\n",
    "# Plot the hyperplane\n",
    "#plt.plot(xx, yy, color='red')\n",
    "\n",
    "# Plot support vectors \n",
    "#plt.plot(xx, (yy+1), linestyle='--', color='blue')\n",
    "#plt.plot(xx, (yy-1), linestyle='--', color='blue')\n",
    "\n",
    "plt.show();"
   ]
  },
  {
   "cell_type": "code",
   "execution_count": 521,
   "id": "e648fb66",
   "metadata": {},
   "outputs": [
    {
     "data": {
      "text/plain": [
       "(102, 6)"
      ]
     },
     "execution_count": 521,
     "metadata": {},
     "output_type": "execute_result"
    }
   ],
   "source": [
    "Xte.shape"
   ]
  },
  {
   "cell_type": "code",
   "execution_count": 460,
   "id": "4563f760",
   "metadata": {},
   "outputs": [
    {
     "data": {
      "text/plain": [
       "<AxesSubplot:xlabel='RR_Interval', ylabel='P_Amp'>"
      ]
     },
     "execution_count": 460,
     "metadata": {},
     "output_type": "execute_result"
    },
    {
     "data": {
      "image/png": "[encoded data removed]",
      "text/plain": [
       "<Figure size 432x288 with 1 Axes>"
      ]
     },
     "metadata": {
      "needs_background": "light"
     },
     "output_type": "display_data"
    }
   ],
   "source": [
    "# view data\n",
    "normal_df=cell_df[cell_df['Etat']==1][0:]\n",
    "malade_df=cell_df[cell_df['Etat']==-1][0:]\n",
    "\n",
    "axes=normal_df.plot(kind='scatter',x='RR_Interval',y='P_Amp',color='blue',label='normal')\n",
    "malade_df.plot(kind='scatter',x='RR_Interval',y='P_Amp',color='red',label='malade',ax=axes)"
   ]
  },
  {
   "cell_type": "code",
   "execution_count": 334,
   "id": "0f2a5761",
   "metadata": {},
   "outputs": [
    {
     "data": {
      "text/plain": [
       "array([ 149.15383316,   11.09431028,   43.33528178,   96.38984927,\n",
       "        -20.36692204, -125.16920337])"
      ]
     },
     "execution_count": 334,
     "metadata": {},
     "output_type": "execute_result"
    }
   ],
   "source": [
    "w"
   ]
  },
  {
   "cell_type": "code",
   "execution_count": 472,
   "id": "2c963c20",
   "metadata": {},
   "outputs": [],
   "source": [
    "Ypredt, w_train = svmPredict(Xtr, Ytr, Xtr, 0.1)\n",
    "train_err8 = calcErrorSVM(Ypredt, Ytr)\n",
    "Ypredtr, w_pred = svmPredict(Xtr, Ytr, Xte, 0.1)\n",
    "test_err8 = calcErrorSVM(Ypredtr, Yte)"
   ]
  },
  {
   "cell_type": "code",
   "execution_count": 473,
   "id": "06e2e8a8",
   "metadata": {},
   "outputs": [
    {
     "data": {
      "text/plain": [
       "array([[47,  0],\n",
       "       [ 6, 49]], dtype=int64)"
      ]
     },
     "execution_count": 473,
     "metadata": {},
     "output_type": "execute_result"
    }
   ],
   "source": [
    "# matrice de confision\n",
    "import seaborn as sms\n",
    "from sklearn.metrics import confusion_matrix\n",
    "y8=[]\n",
    "for x in Ypredtr:\n",
    "    if x > 0 :\n",
    "        y8.append(1)\n",
    "    else : \n",
    "        y8.append(-1)\n",
    "conf_mat = confusion_matrix(Yte,y8)\n",
    "conf_mat"
   ]
  },
  {
   "cell_type": "code",
   "execution_count": 474,
   "id": "479832b4",
   "metadata": {},
   "outputs": [
    {
     "data": {
      "text/plain": [
       "array([[ 96,   8],\n",
       "       [ 25, 109]], dtype=int64)"
      ]
     },
     "execution_count": 474,
     "metadata": {},
     "output_type": "execute_result"
    }
   ],
   "source": [
    "# matrice de confision\n",
    "import seaborn as sms\n",
    "from sklearn.metrics import confusion_matrix\n",
    "y8r=[]\n",
    "for x in Ypredt:\n",
    "    if x > 0 :\n",
    "        y8r.append(1)\n",
    "    else : \n",
    "        y8r.append(-1)\n",
    "conf_mat = confusion_matrix(Ytr,y8r)\n",
    "conf_mat"
   ]
  },
  {
   "cell_type": "code",
   "execution_count": 335,
   "id": "7008b14e",
   "metadata": {},
   "outputs": [],
   "source": [
    "Ypredt, w_train = svmPredict(Xtr, Ytr, Xtr, 40)\n",
    "train_err1 = calcErrorSVM(Ypredt, Ytr)"
   ]
  },
  {
   "cell_type": "code",
   "execution_count": 336,
   "id": "19d8d9b6",
   "metadata": {},
   "outputs": [
    {
     "data": {
      "text/plain": [
       "0.12605042016806722"
      ]
     },
     "execution_count": 336,
     "metadata": {},
     "output_type": "execute_result"
    }
   ],
   "source": [
    "train_err1"
   ]
  },
  {
   "cell_type": "code",
   "execution_count": 337,
   "id": "cf5e1163",
   "metadata": {},
   "outputs": [],
   "source": [
    "Ypredtr, w_pred = svmPredict(Xtr, Ytr, Xte, 40)\n",
    "test_err1 = calcErrorSVM(Ypredtr, Yte)"
   ]
  },
  {
   "cell_type": "code",
   "execution_count": 338,
   "id": "58d1cca7",
   "metadata": {},
   "outputs": [
    {
     "data": {
      "text/plain": [
       "0.06862745098039216"
      ]
     },
     "execution_count": 338,
     "metadata": {},
     "output_type": "execute_result"
    }
   ],
   "source": [
    "test_err1 "
   ]
  },
  {
   "cell_type": "code",
   "execution_count": 339,
   "id": "4f75ce8e",
   "metadata": {},
   "outputs": [],
   "source": [
    "# matrice de confision\n",
    "import seaborn as sms\n",
    "from sklearn.metrics import confusion_matrix\n",
    "y1=[]\n",
    "for x in Ypredtr:\n",
    "    if x > 0 :\n",
    "        y1.append(1)\n",
    "    else : \n",
    "        y1.append(-1)\n"
   ]
  },
  {
   "cell_type": "code",
   "execution_count": 340,
   "id": "45e8478d",
   "metadata": {},
   "outputs": [],
   "source": [
    "conf_mat = confusion_matrix(Yte,y1)"
   ]
  },
  {
   "cell_type": "code",
   "execution_count": 341,
   "id": "b0dc24be",
   "metadata": {},
   "outputs": [
    {
     "data": {
      "text/plain": [
       "array([[46,  1],\n",
       "       [ 6, 49]], dtype=int64)"
      ]
     },
     "execution_count": 341,
     "metadata": {},
     "output_type": "execute_result"
    }
   ],
   "source": [
    "conf_mat"
   ]
  },
  {
   "cell_type": "code",
   "execution_count": 342,
   "id": "6499f52f",
   "metadata": {},
   "outputs": [
    {
     "data": {
      "text/plain": [
       "array([[ 94,  10],\n",
       "       [ 20, 114]], dtype=int64)"
      ]
     },
     "execution_count": 342,
     "metadata": {},
     "output_type": "execute_result"
    }
   ],
   "source": [
    "# matrice de confision\n",
    "import seaborn as sms\n",
    "from sklearn.metrics import confusion_matrix\n",
    "yr=[]\n",
    "for x in Ypredt:\n",
    "    if x > 0 :\n",
    "        yr.append(1)\n",
    "    else : \n",
    "        yr.append(-1)\n",
    "conf_mat = confusion_matrix(Ytr,yr)\n",
    "conf_mat"
   ]
  },
  {
   "cell_type": "code",
   "execution_count": 462,
   "id": "1bdac69b",
   "metadata": {},
   "outputs": [],
   "source": [
    "Ypredt, w_train = svmPredict(Xtr, Ytr, Xtr, 100)\n",
    "train_err2 = calcErrorSVM(Ypredt, Ytr)\n",
    "Ypredtr, w_pred = svmPredict(Xtr, Ytr, Xte, 100)\n",
    "test_err2 = calcErrorSVM(Ypredtr, Yte)"
   ]
  },
  {
   "cell_type": "code",
   "execution_count": 463,
   "id": "23b785c8",
   "metadata": {},
   "outputs": [
    {
     "data": {
      "text/plain": [
       "0.1134453781512605"
      ]
     },
     "execution_count": 463,
     "metadata": {},
     "output_type": "execute_result"
    }
   ],
   "source": [
    "train_err2"
   ]
  },
  {
   "cell_type": "code",
   "execution_count": 464,
   "id": "cf992780",
   "metadata": {},
   "outputs": [
    {
     "data": {
      "text/plain": [
       "0.058823529411764705"
      ]
     },
     "execution_count": 464,
     "metadata": {},
     "output_type": "execute_result"
    }
   ],
   "source": [
    "test_err2"
   ]
  },
  {
   "cell_type": "code",
   "execution_count": 465,
   "id": "9cebdda2",
   "metadata": {},
   "outputs": [
    {
     "data": {
      "text/plain": [
       "array([[46,  1],\n",
       "       [ 5, 50]], dtype=int64)"
      ]
     },
     "execution_count": 465,
     "metadata": {},
     "output_type": "execute_result"
    }
   ],
   "source": [
    "# matrice de confision\n",
    "import seaborn as sms\n",
    "from sklearn.metrics import confusion_matrix\n",
    "y2=[]\n",
    "for x in Ypredtr:\n",
    "    if x > 0 :\n",
    "        y2.append(1)\n",
    "    else : \n",
    "        y2.append(-1)\n",
    "conf_mat = confusion_matrix(Yte,y2)\n",
    "conf_mat"
   ]
  },
  {
   "cell_type": "code",
   "execution_count": 466,
   "id": "ecc488f9",
   "metadata": {},
   "outputs": [
    {
     "data": {
      "image/png": "[encoded data removed]",
      "text/plain": [
       "<Figure size 432x288 with 2 Axes>"
      ]
     },
     "metadata": {
      "needs_background": "light"
     },
     "output_type": "display_data"
    }
   ],
   "source": [
    "import seaborn as sms\n",
    "sms.heatmap(conf_mat, annot=True)\n",
    "plt.xlabel=(\"Predicted Label\")\n",
    "plt.ylabel=(\"True Label\")\n",
    "plt.title('confusion_matrix')\n",
    "plt.show()"
   ]
  },
  {
   "cell_type": "code",
   "execution_count": 467,
   "id": "a2becd7f",
   "metadata": {},
   "outputs": [
    {
     "data": {
      "text/plain": [
       "array([[ 92,  12],\n",
       "       [ 15, 119]], dtype=int64)"
      ]
     },
     "execution_count": 467,
     "metadata": {},
     "output_type": "execute_result"
    }
   ],
   "source": [
    "# matrice de confision\n",
    "import seaborn as sms\n",
    "from sklearn.metrics import confusion_matrix\n",
    "yr2=[]\n",
    "for x in Ypredt:\n",
    "    if x > 0 :\n",
    "        yr2.append(1)\n",
    "    else : \n",
    "        yr2.append(-1)\n",
    "conf_mat = confusion_matrix(Ytr,yr2)\n",
    "conf_mat"
   ]
  },
  {
   "cell_type": "code",
   "execution_count": 468,
   "id": "077e711d",
   "metadata": {},
   "outputs": [
    {
     "data": {
      "image/png": "[encoded data removed]",
      "text/plain": [
       "<Figure size 432x288 with 2 Axes>"
      ]
     },
     "metadata": {
      "needs_background": "light"
     },
     "output_type": "display_data"
    }
   ],
   "source": [
    "import seaborn as sms\n",
    "sms.heatmap(conf_mat, annot=True)\n",
    "plt.xlabel=(\"Predicted Label\")\n",
    "plt.ylabel=(\"True Label\")\n",
    "plt.title('confusion_matrix')\n",
    "plt.show()"
   ]
  },
  {
   "cell_type": "code",
   "execution_count": 348,
   "id": "899a5d41",
   "metadata": {},
   "outputs": [],
   "source": [
    "Ypredt, w_train = svmPredict(Xtr, Ytr, Xtr, 1000)\n",
    "train_err3 = calcErrorSVM(Ypredt, Ytr)\n",
    "Ypredtr, w_pred = svmPredict(Xtr, Ytr, Xte, 1000)\n",
    "test_err3 = calcErrorSVM(Ypredtr, Yte)"
   ]
  },
  {
   "cell_type": "code",
   "execution_count": 349,
   "id": "c7c24bcd",
   "metadata": {},
   "outputs": [
    {
     "data": {
      "text/plain": [
       "0.13445378151260504"
      ]
     },
     "execution_count": 349,
     "metadata": {},
     "output_type": "execute_result"
    }
   ],
   "source": [
    "train_err3"
   ]
  },
  {
   "cell_type": "code",
   "execution_count": 350,
   "id": "39ca961b",
   "metadata": {},
   "outputs": [
    {
     "data": {
      "text/plain": [
       "0.06862745098039216"
      ]
     },
     "execution_count": 350,
     "metadata": {},
     "output_type": "execute_result"
    }
   ],
   "source": [
    "test_err3"
   ]
  },
  {
   "cell_type": "code",
   "execution_count": 351,
   "id": "088fdf12",
   "metadata": {},
   "outputs": [
    {
     "data": {
      "text/plain": [
       "array([[46,  1],\n",
       "       [ 6, 49]], dtype=int64)"
      ]
     },
     "execution_count": 351,
     "metadata": {},
     "output_type": "execute_result"
    }
   ],
   "source": [
    "# matrice de confision\n",
    "import seaborn as sms\n",
    "from sklearn.metrics import confusion_matrix\n",
    "y3=[]\n",
    "for x in Ypredtr:\n",
    "    if x > 0 :\n",
    "        y3.append(1)\n",
    "    else : \n",
    "        y3.append(-1)\n",
    "conf_mat = confusion_matrix(Yte,y3)\n",
    "conf_mat"
   ]
  },
  {
   "cell_type": "code",
   "execution_count": null,
   "id": "99bc3464",
   "metadata": {},
   "outputs": [],
   "source": [
    "import seaborn as sms\n",
    "sms.heatmap(conf_mat, annot=True)\n",
    "plt.xlabel=(\"Predicted Label\")\n",
    "plt.ylabel=(\"True Label\")\n",
    "plt.title('confusion_matrix')\n",
    "plt.show()"
   ]
  },
  {
   "cell_type": "code",
   "execution_count": 352,
   "id": "10341f6f",
   "metadata": {},
   "outputs": [
    {
     "data": {
      "text/plain": [
       "array([[ 94,  10],\n",
       "       [ 22, 112]], dtype=int64)"
      ]
     },
     "execution_count": 352,
     "metadata": {},
     "output_type": "execute_result"
    }
   ],
   "source": [
    "# matrice de confision\n",
    "import seaborn as sms\n",
    "from sklearn.metrics import confusion_matrix\n",
    "yr3=[]\n",
    "for x in Ypredt:\n",
    "    if x > 0 :\n",
    "        yr3.append(1)\n",
    "    else : \n",
    "        yr3.append(-1)\n",
    "conf_mat = confusion_matrix(Ytr,yr3)\n",
    "conf_mat"
   ]
  },
  {
   "cell_type": "code",
   "execution_count": 461,
   "id": "21fceb86",
   "metadata": {},
   "outputs": [
    {
     "data": {
      "image/png": "[encoded data removed]",
      "text/plain": [
       "<Figure size 432x288 with 2 Axes>"
      ]
     },
     "metadata": {
      "needs_background": "light"
     },
     "output_type": "display_data"
    }
   ],
   "source": [
    "import seaborn as sms\n",
    "sms.heatmap(conf_mat, annot=True)\n",
    "plt.xlabel=(\"Predicted Label\")\n",
    "plt.ylabel=(\"True Label\")\n",
    "plt.title('confusion_matrix')\n",
    "plt.show()"
   ]
  },
  {
   "cell_type": "code",
   "execution_count": 353,
   "id": "92b0d3f2",
   "metadata": {},
   "outputs": [],
   "source": [
    "Ypredt, w_train = svmPredict(Xtr, Ytr, Xtr, 10000)\n",
    "train_err4 = calcErrorSVM(Ypredt, Ytr)\n",
    "Ypredtr, w_pred = svmPredict(Xtr, Ytr, Xte, 10000)\n",
    "test_err4 = calcErrorSVM(Ypredtr, Yte)"
   ]
  },
  {
   "cell_type": "code",
   "execution_count": 354,
   "id": "e6f7ecbd",
   "metadata": {},
   "outputs": [
    {
     "data": {
      "text/plain": [
       "0.13025210084033614"
      ]
     },
     "execution_count": 354,
     "metadata": {},
     "output_type": "execute_result"
    }
   ],
   "source": [
    "train_err4"
   ]
  },
  {
   "cell_type": "code",
   "execution_count": 355,
   "id": "5a46566a",
   "metadata": {},
   "outputs": [
    {
     "data": {
      "text/plain": [
       "0.06862745098039216"
      ]
     },
     "execution_count": 355,
     "metadata": {},
     "output_type": "execute_result"
    }
   ],
   "source": [
    "test_err4"
   ]
  },
  {
   "cell_type": "code",
   "execution_count": 356,
   "id": "89d9c5af",
   "metadata": {},
   "outputs": [
    {
     "data": {
      "text/plain": [
       "array([[ 94,  10],\n",
       "       [ 21, 113]], dtype=int64)"
      ]
     },
     "execution_count": 356,
     "metadata": {},
     "output_type": "execute_result"
    }
   ],
   "source": [
    "# matrice de confision\n",
    "import seaborn as sms\n",
    "from sklearn.metrics import confusion_matrix\n",
    "yr4=[]\n",
    "for x in Ypredt:\n",
    "    if x > 0 :\n",
    "        yr4.append(1)\n",
    "    else : \n",
    "        yr4.append(-1)\n",
    "conf_mat = confusion_matrix(Ytr,yr4)\n",
    "conf_mat"
   ]
  },
  {
   "cell_type": "code",
   "execution_count": 357,
   "id": "9b50e232",
   "metadata": {},
   "outputs": [
    {
     "data": {
      "text/plain": [
       "array([[46,  1],\n",
       "       [ 6, 49]], dtype=int64)"
      ]
     },
     "execution_count": 357,
     "metadata": {},
     "output_type": "execute_result"
    }
   ],
   "source": [
    "# matrice de confision\n",
    "import seaborn as sms\n",
    "from sklearn.metrics import confusion_matrix\n",
    "y4=[]\n",
    "for x in Ypredtr:\n",
    "    if x > 0 :\n",
    "        y4.append(1)\n",
    "    else : \n",
    "        y4.append(-1)\n",
    "conf_mat = confusion_matrix(Yte,y4)\n",
    "conf_mat"
   ]
  },
  {
   "cell_type": "code",
   "execution_count": 358,
   "id": "fddbfe40",
   "metadata": {},
   "outputs": [],
   "source": [
    "Ypredt, w_train = svmPredict(Xtr, Ytr, Xtr,70)\n",
    "train_err5 = calcErrorSVM(Ypredt, Ytr)\n",
    "Ypredtr, w_pred = svmPredict(Xtr, Ytr, Xte, 70)\n",
    "test_err5 = calcErrorSVM(Ypredtr, Yte)"
   ]
  },
  {
   "cell_type": "code",
   "execution_count": 359,
   "id": "b7f6f35a",
   "metadata": {},
   "outputs": [
    {
     "data": {
      "text/plain": [
       "0.13865546218487396"
      ]
     },
     "execution_count": 359,
     "metadata": {},
     "output_type": "execute_result"
    }
   ],
   "source": [
    "train_err5"
   ]
  },
  {
   "cell_type": "code",
   "execution_count": 360,
   "id": "4a23e776",
   "metadata": {},
   "outputs": [
    {
     "data": {
      "text/plain": [
       "0.0784313725490196"
      ]
     },
     "execution_count": 360,
     "metadata": {},
     "output_type": "execute_result"
    }
   ],
   "source": [
    "test_err5"
   ]
  },
  {
   "cell_type": "code",
   "execution_count": 361,
   "id": "b5dbe2c3",
   "metadata": {},
   "outputs": [
    {
     "data": {
      "text/plain": [
       "array([[ 83,  21],\n",
       "       [ 12, 122]], dtype=int64)"
      ]
     },
     "execution_count": 361,
     "metadata": {},
     "output_type": "execute_result"
    }
   ],
   "source": [
    "# matrice de confision\n",
    "import seaborn as sms\n",
    "from sklearn.metrics import confusion_matrix\n",
    "yr5=[]\n",
    "for x in Ypredt:\n",
    "    if x > 0 :\n",
    "        yr5.append(1)\n",
    "    else : \n",
    "        yr5.append(-1)\n",
    "conf_mat = confusion_matrix(Ytr,yr5)\n",
    "conf_mat"
   ]
  },
  {
   "cell_type": "code",
   "execution_count": 362,
   "id": "5af9e132",
   "metadata": {},
   "outputs": [
    {
     "data": {
      "text/plain": [
       "array([[44,  3],\n",
       "       [ 5, 50]], dtype=int64)"
      ]
     },
     "execution_count": 362,
     "metadata": {},
     "output_type": "execute_result"
    }
   ],
   "source": [
    "# matrice de confision\n",
    "import seaborn as sms\n",
    "from sklearn.metrics import confusion_matrix\n",
    "y5=[]\n",
    "for x in Ypredtr:\n",
    "    if x > 0 :\n",
    "        y5.append(1)\n",
    "    else : \n",
    "        y5.append(-1)\n",
    "conf_mat = confusion_matrix(Yte,y5)\n",
    "conf_mat"
   ]
  },
  {
   "cell_type": "code",
   "execution_count": 496,
   "id": "2b98c1f1",
   "metadata": {},
   "outputs": [],
   "source": [
    "Ypredtr = kNNClassify(Xtr, Ytr, 1, Xtr)\n",
    "train_err1_knn1 = knncalcError(Ypredtr, Ytr)\n",
    "\n",
    "Ypredte = kNNClassify(Xtr, Ytr, 1, Xte)\n",
    "test_err_knn1 = knncalcError(Ypredte, Yte)"
   ]
  },
  {
   "cell_type": "code",
   "execution_count": 497,
   "id": "b121a7ab",
   "metadata": {},
   "outputs": [
    {
     "data": {
      "text/plain": [
       "0.0"
      ]
     },
     "execution_count": 497,
     "metadata": {},
     "output_type": "execute_result"
    }
   ],
   "source": [
    "train_err1_knn1"
   ]
  },
  {
   "cell_type": "code",
   "execution_count": 498,
   "id": "783c2db8",
   "metadata": {},
   "outputs": [
    {
     "data": {
      "text/plain": [
       "0.0392156862745098"
      ]
     },
     "execution_count": 498,
     "metadata": {},
     "output_type": "execute_result"
    }
   ],
   "source": [
    "test_err_knn1"
   ]
  },
  {
   "cell_type": "code",
   "execution_count": 499,
   "id": "a58987e0",
   "metadata": {},
   "outputs": [
    {
     "data": {
      "text/plain": [
       "array([[46,  1],\n",
       "       [ 3, 52]], dtype=int64)"
      ]
     },
     "execution_count": 499,
     "metadata": {},
     "output_type": "execute_result"
    }
   ],
   "source": [
    "# matrice de confision\n",
    "import seaborn as sms\n",
    "conf_mat = confusion_matrix(Yte,Ypredte)\n",
    "conf_mat"
   ]
  },
  {
   "cell_type": "code",
   "execution_count": 500,
   "id": "c735cfee",
   "metadata": {},
   "outputs": [
    {
     "data": {
      "text/plain": [
       "array([[104,   0],\n",
       "       [  0, 134]], dtype=int64)"
      ]
     },
     "execution_count": 500,
     "metadata": {},
     "output_type": "execute_result"
    }
   ],
   "source": [
    "# matrice de confision\n",
    "import seaborn as sms\n",
    "conf_mat = confusion_matrix(Ytr,Ypredtr)\n",
    "conf_mat"
   ]
  },
  {
   "cell_type": "code",
   "execution_count": 368,
   "id": "29156aa3",
   "metadata": {},
   "outputs": [
    {
     "name": "stdout",
     "output_type": "stream",
     "text": [
      "Time taken to complete process: 2996.9725602999097\n"
     ]
    }
   ],
   "source": [
    "#Let's check the trainig and validation error for Order of the Regularization Parameters\n",
    "import timeit\n",
    "\n",
    "reg_params = [0.001, 0.01, 0.1, 1, 10, 100, 1000, 10000, 100000, 1000000, 10000000]\n",
    "train_errors = np.zeros(len(reg_params))\n",
    "validation_errors = np.zeros(len(reg_params))\n",
    "\n",
    "start_time = timeit.default_timer()\n",
    "\n",
    "train_errors, validation_errors = svmTrainTestAnalysis(Xtr, Ytr, Xte, Yte, reg_params)\n",
    "    \n",
    "end_time = timeit.default_timer()\n",
    "\n",
    "print('Time taken to complete process:', end_time - start_time)"
   ]
  },
  {
   "cell_type": "code",
   "execution_count": 369,
   "id": "6bce1bec",
   "metadata": {},
   "outputs": [
    {
     "name": "stdout",
     "output_type": "stream",
     "text": [
      "[0.81512605 0.49579832 0.27731092 0.22268908 0.11764706 0.11344538\n",
      " 0.13445378 0.1302521  0.11344538 0.13445378 0.13445378]\n"
     ]
    }
   ],
   "source": [
    "print(train_errors)"
   ]
  },
  {
   "cell_type": "code",
   "execution_count": 370,
   "id": "ddcea5f9",
   "metadata": {},
   "outputs": [
    {
     "data": {
      "image/png": "[encoded data removed]",
      "text/plain": [
       "<Figure size 432x288 with 1 Axes>"
      ]
     },
     "metadata": {
      "needs_background": "light"
     },
     "output_type": "display_data"
    }
   ],
   "source": [
    "plt.plot(np.log10(np.array(reg_params)), np.array(train_errors), label='Training Error')\n",
    "plt.plot(np.log10(np.array(reg_params)), np.array(validation_errors), label='Validation Error')\n",
    "plt.xlabel('Regularization Parameters (log scale)', color='#1C2833')\n",
    "plt.ylabel('Errors', color='#1C2833')\n",
    "plt.legend(loc='upper right')\n",
    "plt.grid()\n",
    "plt.show()"
   ]
  },
  {
   "cell_type": "code",
   "execution_count": 371,
   "id": "8a02be6f",
   "metadata": {},
   "outputs": [],
   "source": [
    "def knntrainTestAnalysis(Ks, Xtr, Ytr, Xte, Yte):\n",
    "\n",
    "    train_err = np.zeros(np.shape(Ks))\n",
    "    test_err = np.zeros(np.shape(Ks))\n",
    "\n",
    "    kpos = 0\n",
    "    for kpos in range(len(Ks)):\n",
    "        Ypredte = kNNClassify(Xtr, Ytr, Ks[kpos], Xte)\n",
    "        test_err[kpos] = knncalcError(Ypredte, Yte)\n",
    "        \n",
    "        Ypredtr = kNNClassify(Xtr, Ytr, Ks[kpos], Xtr)\n",
    "        train_err[kpos] = knncalcError(Ypredtr, Ytr)\n",
    "\n",
    "    return train_err, test_err"
   ]
  },
  {
   "cell_type": "code",
   "execution_count": 513,
   "id": "682ec2e5",
   "metadata": {
    "scrolled": true
   },
   "outputs": [
    {
     "data": {
      "image/png": "[encoded data removed]",
      "text/plain": [
       "<Figure size 432x288 with 1 Axes>"
      ]
     },
     "metadata": {
      "needs_background": "light"
     },
     "output_type": "display_data"
    }
   ],
   "source": [
    "#Train-Test Analysis of the dataset using KNN\n",
    "K  = list(range(1,30))\n",
    "[training_error_knn,testing_error_knn] = knntrainTestAnalysis(K, Xtr, Ytr, Xte, Yte)\n",
    "plt.plot(K, training_error_knn, 'b', label = 'Training Error')\n",
    "plt.plot(K, testing_error_knn, 'g', label = 'Testing Error')\n",
    "plt.legend(loc='lower right')\n",
    "plt.grid()\n",
    "plt.show()"
   ]
  },
  {
   "cell_type": "code",
   "execution_count": 373,
   "id": "cfb4dead",
   "metadata": {},
   "outputs": [],
   "source": [
    "def kFoldCrossValidationSVM(X,Y, num_of_folds, reg_param_list):\n",
    "    \n",
    "    if num_of_folds <= 0 and num_of_folds >= 100 and isinstance(num_of_folds_folds, int):\n",
    "        print(\"select an integer in between 1 and 100\")\n",
    "        return -1\n",
    "        \n",
    "    size_of_input = X.shape[0]   \n",
    "    size_of_validation = int(np.ceil(size_of_input/num_of_folds))\n",
    "    \n",
    "    num_reg_param = len(reg_param_list)\n",
    "    reg_param_list = np.array(reg_param_list)\n",
    "    \n",
    "    \n",
    "    T_mean, T_sd, V_mean, V_sd = np.zeros(num_reg_param),                                                  \\\n",
    "                                 np.zeros(num_reg_param),                                                  \\\n",
    "                                 np.zeros(num_reg_param),                                                  \\\n",
    "                                 np.zeros(num_reg_param)\n",
    "        \n",
    "    random_index = np.random.choice(size_of_input, size=size_of_input, replace=False)\n",
    "    \n",
    "    for reg_index, reg_param in enumerate(reg_param_list):\n",
    "        first = 0\n",
    "        for fold in range(num_of_folds):\n",
    "            \n",
    "            flags = np.zeros(size_of_input)\n",
    "            flags[first:first+size_of_validation] = 1\n",
    "            \n",
    "            X_training, Y_training = X[flags == 0], Y[flags == 0]\n",
    "            X_validation, Y_validation = X[flags == 1], Y[flags == 1]\n",
    "            \n",
    "            # training Error calculation\n",
    "            Y_train_predict, w = svmPredict(X_training, Y_training, X_training, reg_param)\n",
    "            training_error = calcErrorSVM(Y_train_predict, Y_training)\n",
    "            \n",
    "            T_mean[reg_index] += training_error\n",
    "            T_sd[reg_index] += training_error**2\n",
    "            \n",
    "            # validation errorcalculation\n",
    "            Y_validation_predict, w = svmPredict(X_training, Y_training, X_validation, reg_param)\n",
    "            validation_error = calcErrorSVM(Y_validation_predict, Y_validation)\n",
    "            \n",
    "            V_mean[reg_index] += validation_error\n",
    "            V_sd[reg_index] += validation_error**2\n",
    "            \n",
    "            first += size_of_validation\n",
    "            \n",
    "    T_mean = T_mean / num_of_folds \n",
    "    T_sd = T_sd / num_of_folds - T_mean**2\n",
    "    \n",
    "    V_mean = V_mean / num_of_folds \n",
    "    V_sd = V_sd - V_mean**2\n",
    "    \n",
    "    best_reg_param_index = np.argmin(V_mean)\n",
    "    best_reg_param = reg_param_list[best_reg_param_index]\n",
    "    \n",
    "    return best_reg_param, T_mean, T_sd, V_mean, V_sd"
   ]
  },
  {
   "cell_type": "code",
   "execution_count": 374,
   "id": "5c3077e3",
   "metadata": {},
   "outputs": [],
   "source": [
    "def KFoldCVkNN(Xtr, Ytr, KF, k_list):\n",
    "\n",
    "    if KF <= 0:\n",
    "        print(\"Please supply a positive number of repetitions\")\n",
    "        return -1\n",
    "\n",
    "    # Ensures that k_list is a numpy array\n",
    "    k_list = np.array(k_list)\n",
    "    num_k = k_list.size\n",
    "\n",
    "    n_tot = Xtr.shape[0]\n",
    "    n_val = int(np.ceil(n_tot/KF))\n",
    "\n",
    "    Tm = np.zeros(num_k)\n",
    "    Ts = np.zeros(num_k)\n",
    "    Vm = np.zeros(num_k)\n",
    "    Vs = np.zeros(num_k)\n",
    "\n",
    "    # Random permutation of training data\n",
    "    rand_idx = np.random.choice(n_tot, size=n_tot, replace=False)\n",
    "    \n",
    "    \n",
    "    for kdx, k in enumerate(k_list):\n",
    "        first = 0\n",
    "        for fold in range(KF):\n",
    "           \n",
    "            flags = np.zeros(Xtr.shape[0])\n",
    "            flags[first:first+n_val]=1;\n",
    "            \n",
    "            X = Xtr[flags==0]\n",
    "            Y = Ytr[flags==0]\n",
    "            X_val = Xtr[flags==1]\n",
    "            Y_val = Ytr[flags==1]\n",
    "\n",
    "            # Compute the training error of the kNN classifier for the given value of k\n",
    "            trError = knncalcError(kNNClassify(X, Y, k, X), Y)\n",
    "            Tm[kdx] += trError\n",
    "            Ts[kdx] += trError ** 2\n",
    "\n",
    "            # Compute the validation error of the kNN classifier for the given value of k\n",
    "            valError = knncalcError(kNNClassify(X, Y, k, X_val), Y_val)\n",
    "            Vm[kdx] += valError\n",
    "            Vs[kdx] += valError ** 2\n",
    "            \n",
    "            first = first+n_val                \n",
    "\n",
    "    Tm = Tm / len(Tm)\n",
    "    Ts = Ts / len(Ts) - Tm ** 2\n",
    "\n",
    "    Vm = Vm / len(Vm)\n",
    "    Vs = Vs / len(Vs) - Vm ** 2\n",
    "\n",
    "    best_k_idx = np.argmin(Vm)\n",
    "    k = k_list[best_k_idx]\n",
    "\n",
    "    return k, Vm, Vs, Tm, Ts"
   ]
  },
  {
   "cell_type": "code",
   "execution_count": 375,
   "id": "1a712279",
   "metadata": {},
   "outputs": [
    {
     "name": "stdout",
     "output_type": "stream",
     "text": [
      "100 [0.47076023 0.47076023 0.47368421 0.46491228] [0.92835402 0.92835402 0.93321022 0.91905202]\n"
     ]
    }
   ],
   "source": [
    "reg_param_range = [10, 40, 70, 100]\n",
    "number_of_folds = 3\n",
    "best_reg_param, T_mean, T_sd, V_mean, V_sd = kFoldCrossValidationSVM(X,Y, number_of_folds, reg_param_range)\n",
    "print(best_reg_param, V_mean, V_sd)"
   ]
  },
  {
   "cell_type": "code",
   "execution_count": 502,
   "id": "a6a866d4",
   "metadata": {},
   "outputs": [
    {
     "name": "stdout",
     "output_type": "stream",
     "text": [
      "5\n",
      "Validation Error for best K: [0.06862745]\n"
     ]
    }
   ],
   "source": [
    "KF = 10\n",
    "k_list = list(range(1, 20))\n",
    "best_k, Vm_knn, Vs_knn, Tm_knn, Ts_knn = KFoldCVkNN(X, Y, KF, k_list)\n",
    "print(best_k)\n",
    "K = [best_k]\n",
    "[training_error_knn, testing_error_knn] = knntrainTestAnalysis(K, Xtr, Ytr, Xte, Yte)\n",
    "print('Validation Error for best K:', testing_error_knn)"
   ]
  },
  {
   "cell_type": "code",
   "execution_count": 377,
   "id": "6c6dd251",
   "metadata": {},
   "outputs": [],
   "source": [
    "Ypredtr = kNNClassify(Xtr, Ytr, 5, Xtr)\n",
    "train_err_knn2 = knncalcError(Ypredtr, Ytr)\n",
    "\n",
    "Ypredte = kNNClassify(Xtr, Ytr, 5, Xte)\n",
    "test_err_knn2 = knncalcError(Ypredte, Yte)"
   ]
  },
  {
   "cell_type": "code",
   "execution_count": 378,
   "id": "7c4ce089",
   "metadata": {},
   "outputs": [
    {
     "data": {
      "text/plain": [
       "0.04201680672268908"
      ]
     },
     "execution_count": 378,
     "metadata": {},
     "output_type": "execute_result"
    }
   ],
   "source": [
    "train_err_knn2"
   ]
  },
  {
   "cell_type": "code",
   "execution_count": 379,
   "id": "9cbabed6",
   "metadata": {},
   "outputs": [
    {
     "data": {
      "text/plain": [
       "0.06862745098039216"
      ]
     },
     "execution_count": 379,
     "metadata": {},
     "output_type": "execute_result"
    }
   ],
   "source": [
    "test_err_knn2 "
   ]
  },
  {
   "cell_type": "code",
   "execution_count": 380,
   "id": "7a9b2e37",
   "metadata": {},
   "outputs": [
    {
     "data": {
      "text/plain": [
       "array([[45,  2],\n",
       "       [ 5, 50]], dtype=int64)"
      ]
     },
     "execution_count": 380,
     "metadata": {},
     "output_type": "execute_result"
    }
   ],
   "source": [
    "# matrice de confision\n",
    "import seaborn as sms\n",
    "conf_mat = confusion_matrix(Yte,Ypredte)\n",
    "conf_mat"
   ]
  },
  {
   "cell_type": "code",
   "execution_count": 381,
   "id": "d174031d",
   "metadata": {},
   "outputs": [
    {
     "data": {
      "text/plain": [
       "array([[100,   4],\n",
       "       [  6, 128]], dtype=int64)"
      ]
     },
     "execution_count": 381,
     "metadata": {},
     "output_type": "execute_result"
    }
   ],
   "source": [
    "# matrice de confision\n",
    "import seaborn as sms\n",
    "conf_mat = confusion_matrix(Ytr,Ypredtr)\n",
    "conf_mat"
   ]
  },
  {
   "cell_type": "code",
   "execution_count": 475,
   "id": "d7f5ab0b",
   "metadata": {},
   "outputs": [],
   "source": [
    "Ypredtr = kNNClassify(Xtr, Ytr, 15, Xtr)\n",
    "train_err_knn2 = knncalcError(Ypredtr, Ytr)\n",
    "\n",
    "Ypredte = kNNClassify(Xtr, Ytr, 15, Xte)\n",
    "test_err_knn2 = knncalcError(Ypredte, Yte)"
   ]
  },
  {
   "cell_type": "code",
   "execution_count": 476,
   "id": "18c34fee",
   "metadata": {},
   "outputs": [
    {
     "data": {
      "text/plain": [
       "array([[43,  4],\n",
       "       [ 6, 49]], dtype=int64)"
      ]
     },
     "execution_count": 476,
     "metadata": {},
     "output_type": "execute_result"
    }
   ],
   "source": [
    "# matrice de confision\n",
    "import seaborn as sms\n",
    "conf_mat = confusion_matrix(Yte,Ypredte)\n",
    "conf_mat"
   ]
  },
  {
   "cell_type": "code",
   "execution_count": 477,
   "id": "4c948acb",
   "metadata": {},
   "outputs": [
    {
     "data": {
      "text/plain": [
       "array([[ 98,   6],\n",
       "       [ 14, 120]], dtype=int64)"
      ]
     },
     "execution_count": 477,
     "metadata": {},
     "output_type": "execute_result"
    }
   ],
   "source": [
    "# matrice de confision\n",
    "import seaborn as sms\n",
    "conf_mat = confusion_matrix(Ytr,Ypredtr)\n",
    "conf_mat"
   ]
  },
  {
   "cell_type": "code",
   "execution_count": 514,
   "id": "931a2df4",
   "metadata": {},
   "outputs": [],
   "source": [
    "Ypredtr = kNNClassify(Xtr, Ytr, 5, Xtr)\n",
    "train_err_knn2 = knncalcError(Ypredtr, Ytr)\n",
    "\n",
    "Ypredte = kNNClassify(Xtr, Ytr, 5, Xte)\n",
    "test_err_knn2 = knncalcError(Ypredte, Yte)"
   ]
  },
  {
   "cell_type": "code",
   "execution_count": 515,
   "id": "0b9ffff9",
   "metadata": {},
   "outputs": [
    {
     "data": {
      "text/plain": [
       "array([[45,  2],\n",
       "       [ 5, 50]], dtype=int64)"
      ]
     },
     "execution_count": 515,
     "metadata": {},
     "output_type": "execute_result"
    }
   ],
   "source": [
    "# matrice de confision\n",
    "import seaborn as sms\n",
    "conf_mat = confusion_matrix(Yte,Ypredte)\n",
    "conf_mat"
   ]
  },
  {
   "cell_type": "code",
   "execution_count": 516,
   "id": "fb0e893c",
   "metadata": {},
   "outputs": [
    {
     "data": {
      "image/png": "[encoded data removed]",
      "text/plain": [
       "<Figure size 432x288 with 2 Axes>"
      ]
     },
     "metadata": {
      "needs_background": "light"
     },
     "output_type": "display_data"
    }
   ],
   "source": [
    "import seaborn as sms\n",
    "sms.heatmap(conf_mat, annot=True)\n",
    "plt.xlabel=(\"Predicted Label\")\n",
    "plt.ylabel=(\"True Label\")\n",
    "plt.title('confusion_matrix for Test')\n",
    "plt.show()"
   ]
  },
  {
   "cell_type": "code",
   "execution_count": 517,
   "id": "0f5dca54",
   "metadata": {},
   "outputs": [
    {
     "data": {
      "text/plain": [
       "array([[100,   4],\n",
       "       [  6, 128]], dtype=int64)"
      ]
     },
     "execution_count": 517,
     "metadata": {},
     "output_type": "execute_result"
    }
   ],
   "source": [
    "# matrice de confision\n",
    "import seaborn as sms\n",
    "conf_mat = confusion_matrix(Ytr,Ypredtr)\n",
    "conf_mat"
   ]
  },
  {
   "cell_type": "code",
   "execution_count": 518,
   "id": "72c8872e",
   "metadata": {},
   "outputs": [
    {
     "data": {
      "image/png": "[encoded data removed]",
      "text/plain": [
       "<Figure size 432x288 with 2 Axes>"
      ]
     },
     "metadata": {
      "needs_background": "light"
     },
     "output_type": "display_data"
    }
   ],
   "source": [
    "import seaborn as sms\n",
    "sms.heatmap(conf_mat, annot=True)\n",
    "plt.xlabel=(\"Predicted Label\")\n",
    "plt.ylabel=(\"True Label\")\n",
    "plt.title('confusion_matrix for Train')\n",
    "plt.show()"
   ]
  },
  {
   "cell_type": "code",
   "execution_count": null,
   "id": "81a5476a",
   "metadata": {},
   "outputs": [],
   "source": []
  }
 ],
 "metadata": {
  "kernelspec": {
   "display_name": "Python 3 (ipykernel)",
   "language": "python",
   "name": "python3"
  },
  "language_info": {
   "codemirror_mode": {
    "name": "ipython",
    "version": 3
   },
   "file_extension": ".py",
   "mimetype": "text/x-python",
   "name": "python",
   "nbconvert_exporter": "python",
   "pygments_lexer": "ipython3",
   "version": "3.8.6"
  }
 },
 "nbformat": 4,
 "nbformat_minor": 5
}
