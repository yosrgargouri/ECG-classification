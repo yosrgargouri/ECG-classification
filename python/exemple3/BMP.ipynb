{
 "cells": [
  {
   "cell_type": "code",
   "execution_count": 1,
   "id": "4b048c1c",
   "metadata": {},
   "outputs": [],
   "source": [
    "#necessary imports\n",
    "import pandas as pd\n",
    "import numpy as np\n",
    "import matplotlib.pyplot as plt\n",
    "import seaborn as sms"
   ]
  },
  {
   "cell_type": "code",
   "execution_count": 2,
   "id": "49a41a18",
   "metadata": {},
   "outputs": [],
   "source": [
    "from sklearn.tree import DecisionTreeClassifier\n",
    "from sklearn.model_selection import train_test_split"
   ]
  },
  {
   "cell_type": "code",
   "execution_count": 78,
   "id": "32d9331e",
   "metadata": {
    "scrolled": true
   },
   "outputs": [
    {
     "data": {
      "text/html": [
       "<div>\n",
       "<style scoped>\n",
       "    .dataframe tbody tr th:only-of-type {\n",
       "        vertical-align: middle;\n",
       "    }\n",
       "\n",
       "    .dataframe tbody tr th {\n",
       "        vertical-align: top;\n",
       "    }\n",
       "\n",
       "    .dataframe thead th {\n",
       "        text-align: right;\n",
       "    }\n",
       "</style>\n",
       "<table border=\"1\" class=\"dataframe\">\n",
       "  <thead>\n",
       "    <tr style=\"text-align: right;\">\n",
       "      <th></th>\n",
       "      <th>P_Duration</th>\n",
       "      <th>P_Amp</th>\n",
       "      <th>QRS_Duration</th>\n",
       "      <th>QRS_Amp</th>\n",
       "      <th>RR_Interval</th>\n",
       "      <th>PR_Interval</th>\n",
       "      <th>Etat</th>\n",
       "    </tr>\n",
       "  </thead>\n",
       "  <tbody>\n",
       "    <tr>\n",
       "      <th>0</th>\n",
       "      <td>130</td>\n",
       "      <td>0.145</td>\n",
       "      <td>160.0</td>\n",
       "      <td>1.119</td>\n",
       "      <td>728</td>\n",
       "      <td>25</td>\n",
       "      <td>1</td>\n",
       "    </tr>\n",
       "    <tr>\n",
       "      <th>1</th>\n",
       "      <td>127</td>\n",
       "      <td>0.178</td>\n",
       "      <td>166.0</td>\n",
       "      <td>1.782</td>\n",
       "      <td>724</td>\n",
       "      <td>26</td>\n",
       "      <td>1</td>\n",
       "    </tr>\n",
       "    <tr>\n",
       "      <th>2</th>\n",
       "      <td>137</td>\n",
       "      <td>0.134</td>\n",
       "      <td>161.0</td>\n",
       "      <td>1.888</td>\n",
       "      <td>745</td>\n",
       "      <td>20</td>\n",
       "      <td>1</td>\n",
       "    </tr>\n",
       "    <tr>\n",
       "      <th>3</th>\n",
       "      <td>133</td>\n",
       "      <td>0.145</td>\n",
       "      <td>160.0</td>\n",
       "      <td>1.836</td>\n",
       "      <td>739</td>\n",
       "      <td>30</td>\n",
       "      <td>1</td>\n",
       "    </tr>\n",
       "    <tr>\n",
       "      <th>4</th>\n",
       "      <td>134</td>\n",
       "      <td>0.163</td>\n",
       "      <td>157.0</td>\n",
       "      <td>1.894</td>\n",
       "      <td>731</td>\n",
       "      <td>29</td>\n",
       "      <td>1</td>\n",
       "    </tr>\n",
       "    <tr>\n",
       "      <th>...</th>\n",
       "      <td>...</td>\n",
       "      <td>...</td>\n",
       "      <td>...</td>\n",
       "      <td>...</td>\n",
       "      <td>...</td>\n",
       "      <td>...</td>\n",
       "      <td>...</td>\n",
       "    </tr>\n",
       "    <tr>\n",
       "      <th>335</th>\n",
       "      <td>86</td>\n",
       "      <td>0.085</td>\n",
       "      <td>107.0</td>\n",
       "      <td>0.950</td>\n",
       "      <td>825</td>\n",
       "      <td>35</td>\n",
       "      <td>-1</td>\n",
       "    </tr>\n",
       "    <tr>\n",
       "      <th>336</th>\n",
       "      <td>77</td>\n",
       "      <td>0.063</td>\n",
       "      <td>120.0</td>\n",
       "      <td>1.560</td>\n",
       "      <td>700</td>\n",
       "      <td>58</td>\n",
       "      <td>-1</td>\n",
       "    </tr>\n",
       "    <tr>\n",
       "      <th>337</th>\n",
       "      <td>95</td>\n",
       "      <td>0.084</td>\n",
       "      <td>90.0</td>\n",
       "      <td>1.500</td>\n",
       "      <td>854</td>\n",
       "      <td>53</td>\n",
       "      <td>-1</td>\n",
       "    </tr>\n",
       "    <tr>\n",
       "      <th>338</th>\n",
       "      <td>93</td>\n",
       "      <td>0.079</td>\n",
       "      <td>106.0</td>\n",
       "      <td>1.200</td>\n",
       "      <td>871</td>\n",
       "      <td>47</td>\n",
       "      <td>-1</td>\n",
       "    </tr>\n",
       "    <tr>\n",
       "      <th>339</th>\n",
       "      <td>95</td>\n",
       "      <td>0.119</td>\n",
       "      <td>104.0</td>\n",
       "      <td>0.790</td>\n",
       "      <td>790</td>\n",
       "      <td>37</td>\n",
       "      <td>-1</td>\n",
       "    </tr>\n",
       "  </tbody>\n",
       "</table>\n",
       "<p>340 rows × 7 columns</p>\n",
       "</div>"
      ],
      "text/plain": [
       "     P_Duration  P_Amp  QRS_Duration  QRS_Amp  RR_Interval  PR_Interval  Etat\n",
       "0           130  0.145         160.0    1.119          728           25     1\n",
       "1           127  0.178         166.0    1.782          724           26     1\n",
       "2           137  0.134         161.0    1.888          745           20     1\n",
       "3           133  0.145         160.0    1.836          739           30     1\n",
       "4           134  0.163         157.0    1.894          731           29     1\n",
       "..          ...    ...           ...      ...          ...          ...   ...\n",
       "335          86  0.085         107.0    0.950          825           35    -1\n",
       "336          77  0.063         120.0    1.560          700           58    -1\n",
       "337          95  0.084          90.0    1.500          854           53    -1\n",
       "338          93  0.079         106.0    1.200          871           47    -1\n",
       "339          95  0.119         104.0    0.790          790           37    -1\n",
       "\n",
       "[340 rows x 7 columns]"
      ]
     },
     "execution_count": 78,
     "metadata": {},
     "output_type": "execute_result"
    }
   ],
   "source": [
    "#read data\n",
    "cell_df=pd.read_csv('TEST.csv')\n",
    "cell_df.shape\n",
    "cell_df.size\n",
    "cell_df.count()\n",
    "cell_df\n"
   ]
  },
  {
   "cell_type": "code",
   "execution_count": 81,
   "id": "770f7004",
   "metadata": {},
   "outputs": [
    {
     "data": {
      "text/plain": [
       "<AxesSubplot:xlabel='RR_Interval', ylabel='P_Amp'>"
      ]
     },
     "execution_count": 81,
     "metadata": {},
     "output_type": "execute_result"
    },
    {
     "data": {
      "image/png": "[encoded data removed]",
      "text/plain": [
       "<Figure size 432x288 with 1 Axes>"
      ]
     },
     "metadata": {
      "needs_background": "light"
     },
     "output_type": "display_data"
    }
   ],
   "source": [
    "# view data\n",
    "normal_df=cell_df[cell_df['Etat']==1][0:]\n",
    "malade_df=cell_df[cell_df['Etat']==-1][0:]\n",
    "\n",
    "axes=normal_df.plot(kind='scatter',x='RR_Interval',y='P_Amp',color='blue',label='normal')\n",
    "malade_df.plot(kind='scatter',x='RR_Interval',y='P_Amp',color='red',label='malade',ax=axes)"
   ]
  },
  {
   "cell_type": "code",
   "execution_count": 82,
   "id": "498ca35f",
   "metadata": {},
   "outputs": [
    {
     "data": {
      "text/plain": [
       "array([[1.300e+02, 1.450e-01, 1.600e+02, 1.119e+00, 7.280e+02, 2.500e+01],\n",
       "       [1.270e+02, 1.780e-01, 1.660e+02, 1.782e+00, 7.240e+02, 2.600e+01],\n",
       "       [1.370e+02, 1.340e-01, 1.610e+02, 1.888e+00, 7.450e+02, 2.000e+01],\n",
       "       [1.330e+02, 1.450e-01, 1.600e+02, 1.836e+00, 7.390e+02, 3.000e+01],\n",
       "       [1.340e+02, 1.630e-01, 1.570e+02, 1.894e+00, 7.310e+02, 2.900e+01]])"
      ]
     },
     "execution_count": 82,
     "metadata": {},
     "output_type": "execute_result"
    }
   ],
   "source": [
    "cell_df.columns\n",
    "\n",
    "feature_df = cell_df[['P_Duration','P_Amp','QRS_Duration','QRS_Amp','RR_Interval','PR_Interval']]\n",
    "\n",
    "#Independent var\n",
    "x = np.asarray(feature_df)\n",
    "x.shape\n",
    "\n",
    "#Dependent var\n",
    "y = np.asarray(cell_df['Etat'])\n",
    "y.shape\n",
    "\n",
    "x[0:5]"
   ]
  },
  {
   "cell_type": "code",
   "execution_count": 83,
   "id": "58ecc4ba",
   "metadata": {},
   "outputs": [
    {
     "data": {
      "text/plain": [
       "(272, 6)"
      ]
     },
     "execution_count": 83,
     "metadata": {},
     "output_type": "execute_result"
    }
   ],
   "source": [
    "#split data\n",
    "x_train, x_test, y_train, y_test = train_test_split(x, y, test_size=0.2, random_state=4)\n",
    "x_train.shape\n"
   ]
  },
  {
   "cell_type": "code",
   "execution_count": 84,
   "id": "a922fc3d",
   "metadata": {},
   "outputs": [
    {
     "data": {
      "text/plain": [
       "(272,)"
      ]
     },
     "execution_count": 84,
     "metadata": {},
     "output_type": "execute_result"
    }
   ],
   "source": [
    "y_train.shape"
   ]
  },
  {
   "cell_type": "code",
   "execution_count": 85,
   "id": "f7812ff3",
   "metadata": {},
   "outputs": [
    {
     "data": {
      "text/plain": [
       "(68,)"
      ]
     },
     "execution_count": 85,
     "metadata": {},
     "output_type": "execute_result"
    }
   ],
   "source": [
    "x_test.shape\n",
    "y_test.shape"
   ]
  },
  {
   "cell_type": "code",
   "execution_count": 86,
   "id": "ef363da6",
   "metadata": {},
   "outputs": [],
   "source": [
    "#use simple Decision Tree Classifier\n",
    "from sklearn import tree\n",
    "clf = tree.DecisionTreeClassifier(max_depth=5)\n"
   ]
  },
  {
   "cell_type": "code",
   "execution_count": 87,
   "id": "81e3a7de",
   "metadata": {},
   "outputs": [
    {
     "data": {
      "text/plain": [
       "DecisionTreeClassifier(max_depth=5)"
      ]
     },
     "execution_count": 87,
     "metadata": {},
     "output_type": "execute_result"
    }
   ],
   "source": [
    "clf.fit(x_train,y_train) #train"
   ]
  },
  {
   "cell_type": "code",
   "execution_count": 88,
   "id": "b2ef73af",
   "metadata": {},
   "outputs": [
    {
     "data": {
      "text/plain": [
       "0.9558823529411765"
      ]
     },
     "execution_count": 88,
     "metadata": {},
     "output_type": "execute_result"
    }
   ],
   "source": [
    "clf.score(x_test,y_test) # make predection"
   ]
  },
  {
   "cell_type": "code",
   "execution_count": 89,
   "id": "3b805596",
   "metadata": {},
   "outputs": [],
   "source": [
    "y_predict = clf.predict(x_test)"
   ]
  },
  {
   "cell_type": "code",
   "execution_count": 90,
   "id": "73200e00",
   "metadata": {},
   "outputs": [
    {
     "name": "stdout",
     "output_type": "stream",
     "text": [
      "              precision    recall  f1-score   support\n",
      "\n",
      "          -1       0.96      0.93      0.95        28\n",
      "           1       0.95      0.97      0.96        40\n",
      "\n",
      "    accuracy                           0.96        68\n",
      "   macro avg       0.96      0.95      0.95        68\n",
      "weighted avg       0.96      0.96      0.96        68\n",
      "\n"
     ]
    }
   ],
   "source": [
    "from sklearn.metrics import classification_report\n",
    "print(classification_report(y_test, y_predict))"
   ]
  },
  {
   "cell_type": "code",
   "execution_count": 91,
   "id": "8b6b932b",
   "metadata": {},
   "outputs": [],
   "source": [
    "# matrice de confision\n",
    "from sklearn.metrics import confusion_matrix\n",
    "conf_mat = confusion_matrix(y_test,y_predict)"
   ]
  },
  {
   "cell_type": "code",
   "execution_count": 92,
   "id": "e3746d32",
   "metadata": {},
   "outputs": [
    {
     "data": {
      "image/png": "[encoded data removed]",
      "text/plain": [
       "<Figure size 432x288 with 2 Axes>"
      ]
     },
     "metadata": {
      "needs_background": "light"
     },
     "output_type": "display_data"
    }
   ],
   "source": [
    "sms.heatmap(conf_mat, annot=True)\n",
    "plt.xlabel=(\"Predicted Label\")\n",
    "plt.ylabel=(\"True Label\")\n",
    "plt.title('confusion_matrix')\n",
    "plt.show()"
   ]
  },
  {
   "cell_type": "code",
   "execution_count": 93,
   "id": "c45f3d3f",
   "metadata": {},
   "outputs": [
    {
     "data": {
      "text/plain": [
       "0.9852941176470589"
      ]
     },
     "execution_count": 93,
     "metadata": {},
     "output_type": "execute_result"
    }
   ],
   "source": [
    "#use Random Forest Classifier\n",
    "from sklearn import ensemble\n",
    "rf_clf = ensemble.RandomForestClassifier(n_estimators=100)\n",
    "rf_clf.fit(x_train,y_train) #train\n",
    "rf_clf.score(x_test,y_test) # make predection"
   ]
  },
  {
   "cell_type": "code",
   "execution_count": 94,
   "id": "8afcf6f8",
   "metadata": {},
   "outputs": [],
   "source": [
    "y_predict = rf_clf.predict(x_test)"
   ]
  },
  {
   "cell_type": "code",
   "execution_count": 95,
   "id": "5b187d66",
   "metadata": {},
   "outputs": [
    {
     "name": "stdout",
     "output_type": "stream",
     "text": [
      "              precision    recall  f1-score   support\n",
      "\n",
      "          -1       0.97      1.00      0.98        28\n",
      "           1       1.00      0.97      0.99        40\n",
      "\n",
      "    accuracy                           0.99        68\n",
      "   macro avg       0.98      0.99      0.98        68\n",
      "weighted avg       0.99      0.99      0.99        68\n",
      "\n"
     ]
    }
   ],
   "source": [
    "from sklearn.metrics import classification_report\n",
    "print(classification_report(y_test, y_predict))"
   ]
  },
  {
   "cell_type": "code",
   "execution_count": 96,
   "id": "499dc738",
   "metadata": {},
   "outputs": [
    {
     "data": {
      "text/plain": [
       "array([[28,  0],\n",
       "       [ 1, 39]], dtype=int64)"
      ]
     },
     "execution_count": 96,
     "metadata": {},
     "output_type": "execute_result"
    }
   ],
   "source": [
    "# matrice de confision\n",
    "from sklearn.metrics import confusion_matrix\n",
    "conf_mat=confusion_matrix(y_test,y_predict)\n",
    "confusion_matrix(y_test,y_predict)"
   ]
  },
  {
   "cell_type": "code",
   "execution_count": 97,
   "id": "56283e67",
   "metadata": {},
   "outputs": [
    {
     "data": {
      "image/png": "[encoded data removed]",
      "text/plain": [
       "<Figure size 432x288 with 2 Axes>"
      ]
     },
     "metadata": {
      "needs_background": "light"
     },
     "output_type": "display_data"
    }
   ],
   "source": [
    "sms.heatmap(conf_mat, annot=True)\n",
    "plt.xlabel=(\"Predicted Label\")\n",
    "plt.ylabel=(\"True Label\")\n",
    "plt.title('confusion_matrix')\n",
    "plt.show()"
   ]
  },
  {
   "cell_type": "code",
   "execution_count": 98,
   "id": "8679bafc",
   "metadata": {},
   "outputs": [
    {
     "data": {
      "text/plain": [
       "0.9705882352941176"
      ]
     },
     "execution_count": 98,
     "metadata": {},
     "output_type": "execute_result"
    }
   ],
   "source": [
    "# use Gradient Boosting\n",
    "gb_clf= ensemble.GradientBoostingClassifier(n_estimators=40)\n",
    "gb_clf.fit(x_train,y_train) #train\n",
    "gb_clf.score(x_test,y_test) # make predection"
   ]
  },
  {
   "cell_type": "code",
   "execution_count": 99,
   "id": "bddfdf62",
   "metadata": {},
   "outputs": [],
   "source": [
    "y_predict = gb_clf.predict(x_test)"
   ]
  },
  {
   "cell_type": "code",
   "execution_count": 100,
   "id": "dab07e90",
   "metadata": {},
   "outputs": [
    {
     "name": "stdout",
     "output_type": "stream",
     "text": [
      "              precision    recall  f1-score   support\n",
      "\n",
      "          -1       0.96      0.96      0.96        28\n",
      "           1       0.97      0.97      0.97        40\n",
      "\n",
      "    accuracy                           0.97        68\n",
      "   macro avg       0.97      0.97      0.97        68\n",
      "weighted avg       0.97      0.97      0.97        68\n",
      "\n"
     ]
    }
   ],
   "source": [
    "from sklearn.metrics import classification_report\n",
    "print(classification_report(y_test, y_predict))"
   ]
  },
  {
   "cell_type": "code",
   "execution_count": 101,
   "id": "2fa3d477",
   "metadata": {},
   "outputs": [],
   "source": [
    "# matrice de confision\n",
    "from sklearn.metrics import confusion_matrix\n",
    "conf_mat= confusion_matrix(y_test,y_predict)"
   ]
  },
  {
   "cell_type": "code",
   "execution_count": 102,
   "id": "385c822d",
   "metadata": {},
   "outputs": [
    {
     "data": {
      "image/png": "[encoded data removed]",
      "text/plain": [
       "<Figure size 432x288 with 2 Axes>"
      ]
     },
     "metadata": {
      "needs_background": "light"
     },
     "output_type": "display_data"
    }
   ],
   "source": [
    "sms.heatmap(conf_mat, annot=True)\n",
    "plt.xlabel=(\"Predicted Label\")\n",
    "plt.ylabel=(\"True Label\")\n",
    "plt.title('confusion_matrix')\n",
    "plt.show()"
   ]
  },
  {
   "cell_type": "code",
   "execution_count": 103,
   "id": "cba37458",
   "metadata": {},
   "outputs": [],
   "source": [
    "# use Logistique Regression"
   ]
  },
  {
   "cell_type": "code",
   "execution_count": 104,
   "id": "cca85e90",
   "metadata": {},
   "outputs": [
    {
     "name": "stderr",
     "output_type": "stream",
     "text": [
      "c:\\python\\python38\\lib\\site-packages\\sklearn\\linear_model\\_logistic.py:763: ConvergenceWarning: lbfgs failed to converge (status=1):\n",
      "STOP: TOTAL NO. of ITERATIONS REACHED LIMIT.\n",
      "\n",
      "Increase the number of iterations (max_iter) or scale the data as shown in:\n",
      "    https://scikit-learn.org/stable/modules/preprocessing.html\n",
      "Please also refer to the documentation for alternative solver options:\n",
      "    https://scikit-learn.org/stable/modules/linear_model.html#logistic-regression\n",
      "  n_iter_i = _check_optimize_result(\n"
     ]
    },
    {
     "data": {
      "text/plain": [
       "LogisticRegression()"
      ]
     },
     "execution_count": 104,
     "metadata": {},
     "output_type": "execute_result"
    }
   ],
   "source": [
    "from sklearn.linear_model import LogisticRegression\n",
    "# Create a Logistic Regression Object, perform Logistic Regression\n",
    "log_reg = LogisticRegression()\n",
    "log_reg.fit(x_train, y_train)"
   ]
  },
  {
   "cell_type": "code",
   "execution_count": 105,
   "id": "8f357df6",
   "metadata": {},
   "outputs": [
    {
     "name": "stdout",
     "output_type": "stream",
     "text": [
      "[[ 0.06643048  1.33425232  0.00387036  3.70235067 -0.01421197 -0.07592139]]\n",
      "[1.45329209]\n"
     ]
    }
   ],
   "source": [
    "# Show to Coeficient and Intercept\n",
    "print(log_reg.coef_)\n",
    "print(log_reg.intercept_)"
   ]
  },
  {
   "cell_type": "code",
   "execution_count": 106,
   "id": "0005254b",
   "metadata": {},
   "outputs": [],
   "source": [
    "# Perform prediction using the test dataset\n",
    "y_pred = log_reg.predict(x_test)"
   ]
  },
  {
   "cell_type": "code",
   "execution_count": 107,
   "id": "311aeccb",
   "metadata": {},
   "outputs": [
    {
     "data": {
      "text/plain": [
       "0.9558823529411765"
      ]
     },
     "execution_count": 107,
     "metadata": {},
     "output_type": "execute_result"
    }
   ],
   "source": [
    "log_reg.score(x_test,y_test) # make predection"
   ]
  },
  {
   "cell_type": "code",
   "execution_count": 108,
   "id": "5a9b80ab",
   "metadata": {},
   "outputs": [],
   "source": [
    "# Show the Confusion Matrix\n",
    "conf_mat = confusion_matrix(y_test, y_pred)"
   ]
  },
  {
   "cell_type": "code",
   "execution_count": 109,
   "id": "df1c6e0e",
   "metadata": {
    "scrolled": true
   },
   "outputs": [
    {
     "name": "stdout",
     "output_type": "stream",
     "text": [
      "              precision    recall  f1-score   support\n",
      "\n",
      "          -1       0.93      0.96      0.95        28\n",
      "           1       0.97      0.95      0.96        40\n",
      "\n",
      "    accuracy                           0.96        68\n",
      "   macro avg       0.95      0.96      0.95        68\n",
      "weighted avg       0.96      0.96      0.96        68\n",
      "\n"
     ]
    }
   ],
   "source": [
    "print(classification_report(y_test, y_pred))"
   ]
  },
  {
   "cell_type": "code",
   "execution_count": 110,
   "id": "204be8b8",
   "metadata": {},
   "outputs": [
    {
     "data": {
      "image/png": "[encoded data removed]",
      "text/plain": [
       "<Figure size 432x288 with 2 Axes>"
      ]
     },
     "metadata": {
      "needs_background": "light"
     },
     "output_type": "display_data"
    }
   ],
   "source": [
    "sms.heatmap(conf_mat, annot=True)\n",
    "plt.xlabel=(\"Predicted Label\")\n",
    "plt.ylabel=(\"True Label\")\n",
    "plt.title('confusion_matrix')\n",
    "plt.show()"
   ]
  },
  {
   "cell_type": "code",
   "execution_count": 111,
   "id": "0b3bade8",
   "metadata": {},
   "outputs": [],
   "source": [
    "# use Naive Bayes\n",
    "from sklearn.naive_bayes import GaussianNB\n",
    "nbm = GaussianNB()"
   ]
  },
  {
   "cell_type": "code",
   "execution_count": 112,
   "id": "5637db91",
   "metadata": {},
   "outputs": [
    {
     "data": {
      "text/plain": [
       "GaussianNB()"
      ]
     },
     "execution_count": 112,
     "metadata": {},
     "output_type": "execute_result"
    }
   ],
   "source": [
    "nbm.fit(x_train, y_train)"
   ]
  },
  {
   "cell_type": "code",
   "execution_count": 113,
   "id": "c76b9331",
   "metadata": {},
   "outputs": [
    {
     "data": {
      "text/plain": [
       "0.9852941176470589"
      ]
     },
     "execution_count": 113,
     "metadata": {},
     "output_type": "execute_result"
    }
   ],
   "source": [
    "nbm.score(x_test, y_test)"
   ]
  },
  {
   "cell_type": "code",
   "execution_count": 114,
   "id": "062405d0",
   "metadata": {},
   "outputs": [],
   "source": [
    "y_pred = nbm.predict(x_test)"
   ]
  },
  {
   "cell_type": "code",
   "execution_count": 115,
   "id": "ae162b5d",
   "metadata": {},
   "outputs": [
    {
     "data": {
      "image/png": "[encoded data removed]",
      "text/plain": [
       "<Figure size 432x288 with 2 Axes>"
      ]
     },
     "metadata": {
      "needs_background": "light"
     },
     "output_type": "display_data"
    }
   ],
   "source": [
    "# Show the Confusion Matrix\n",
    "conf_mat = confusion_matrix(y_test, y_pred)\n",
    "sms.heatmap(conf_mat, annot=True)\n",
    "plt.xlabel=(\"Predicted Label\")\n",
    "plt.ylabel=(\"True Label\")\n",
    "plt.title('confusion_matrix')\n",
    "plt.show()"
   ]
  },
  {
   "cell_type": "code",
   "execution_count": 116,
   "id": "f62feb66",
   "metadata": {},
   "outputs": [
    {
     "name": "stdout",
     "output_type": "stream",
     "text": [
      "              precision    recall  f1-score   support\n",
      "\n",
      "          -1       0.97      1.00      0.98        28\n",
      "           1       1.00      0.97      0.99        40\n",
      "\n",
      "    accuracy                           0.99        68\n",
      "   macro avg       0.98      0.99      0.98        68\n",
      "weighted avg       0.99      0.99      0.99        68\n",
      "\n"
     ]
    }
   ],
   "source": [
    "print(classification_report(y_test, y_pred))"
   ]
  },
  {
   "cell_type": "code",
   "execution_count": 117,
   "id": "09283db3",
   "metadata": {},
   "outputs": [
    {
     "data": {
      "text/plain": [
       "KNeighborsClassifier(n_neighbors=3)"
      ]
     },
     "execution_count": 117,
     "metadata": {},
     "output_type": "execute_result"
    }
   ],
   "source": [
    "# use K-Nearset Neighbor Classifier\n",
    "from sklearn.neighbors import KNeighborsClassifier\n",
    "clf_kn = KNeighborsClassifier(n_neighbors=3)\n",
    "clf_kn.fit(x_train,y_train)"
   ]
  },
  {
   "cell_type": "code",
   "execution_count": 118,
   "id": "95c9e499",
   "metadata": {},
   "outputs": [
    {
     "data": {
      "text/plain": [
       "0.9852941176470589"
      ]
     },
     "execution_count": 118,
     "metadata": {},
     "output_type": "execute_result"
    }
   ],
   "source": [
    "clf_kn.score(x_test,y_test)"
   ]
  },
  {
   "cell_type": "code",
   "execution_count": 119,
   "id": "1dd0c3e9",
   "metadata": {},
   "outputs": [],
   "source": [
    "y_pred = clf_kn.predict(x_test)"
   ]
  },
  {
   "cell_type": "code",
   "execution_count": 120,
   "id": "7a63c71f",
   "metadata": {},
   "outputs": [
    {
     "data": {
      "image/png": "[encoded data removed]",
      "text/plain": [
       "<Figure size 432x288 with 2 Axes>"
      ]
     },
     "metadata": {
      "needs_background": "light"
     },
     "output_type": "display_data"
    }
   ],
   "source": [
    "# Show the Confusion Matrix\n",
    "conf_mat = confusion_matrix(y_test, y_pred)\n",
    "sms.heatmap(conf_mat, annot=True)\n",
    "plt.xlabel=(\"Predicted Label\")\n",
    "plt.ylabel=(\"True Label\")\n",
    "plt.title('confusion_matrix')\n",
    "plt.show()"
   ]
  },
  {
   "cell_type": "code",
   "execution_count": 121,
   "id": "b570e7d7",
   "metadata": {},
   "outputs": [
    {
     "name": "stdout",
     "output_type": "stream",
     "text": [
      "              precision    recall  f1-score   support\n",
      "\n",
      "          -1       0.97      1.00      0.98        28\n",
      "           1       1.00      0.97      0.99        40\n",
      "\n",
      "    accuracy                           0.99        68\n",
      "   macro avg       0.98      0.99      0.98        68\n",
      "weighted avg       0.99      0.99      0.99        68\n",
      "\n"
     ]
    }
   ],
   "source": [
    "print(classification_report(y_test, y_pred))"
   ]
  },
  {
   "cell_type": "code",
   "execution_count": 122,
   "id": "de133898",
   "metadata": {},
   "outputs": [],
   "source": [
    "# use SVM\n",
    "from sklearn import svm\n",
    "classifier = svm.SVC(kernel='linear',gamma='auto',C=2)\n",
    "classifier.fit(x_train , y_train)\n",
    "y_predict = classifier.predict(x_test)"
   ]
  },
  {
   "cell_type": "code",
   "execution_count": 125,
   "id": "1ef3e73c",
   "metadata": {},
   "outputs": [
    {
     "data": {
      "image/png": "[encoded data removed]",
      "text/plain": [
       "<Figure size 432x288 with 2 Axes>"
      ]
     },
     "metadata": {
      "needs_background": "light"
     },
     "output_type": "display_data"
    }
   ],
   "source": [
    "# Show the Confusion Matrix\n",
    "conf_mat = confusion_matrix(y_test, y_predict)\n",
    "sms.heatmap(conf_mat, annot=True)\n",
    "plt.xlabel=(\"Predicted Label\")\n",
    "plt.ylabel=(\"True Label\")\n",
    "plt.title('confusion_matrix')\n",
    "plt.show()"
   ]
  },
  {
   "cell_type": "code",
   "execution_count": 126,
   "id": "3ee070ec",
   "metadata": {},
   "outputs": [
    {
     "name": "stdout",
     "output_type": "stream",
     "text": [
      "              precision    recall  f1-score   support\n",
      "\n",
      "          -1       0.93      0.93      0.93        28\n",
      "           1       0.95      0.95      0.95        40\n",
      "\n",
      "    accuracy                           0.94        68\n",
      "   macro avg       0.94      0.94      0.94        68\n",
      "weighted avg       0.94      0.94      0.94        68\n",
      "\n"
     ]
    }
   ],
   "source": [
    "print(classification_report(y_test, y_predict))"
   ]
  },
  {
   "cell_type": "code",
   "execution_count": null,
   "id": "c8102f30",
   "metadata": {},
   "outputs": [],
   "source": []
  }
 ],
 "metadata": {
  "kernelspec": {
   "display_name": "Python 3 (ipykernel)",
   "language": "python",
   "name": "python3"
  },
  "language_info": {
   "codemirror_mode": {
    "name": "ipython",
    "version": 3
   },
   "file_extension": ".py",
   "mimetype": "text/x-python",
   "name": "python",
   "nbconvert_exporter": "python",
   "pygments_lexer": "ipython3",
   "version": "3.8.6"
  }
 },
 "nbformat": 4,
 "nbformat_minor": 5
}
